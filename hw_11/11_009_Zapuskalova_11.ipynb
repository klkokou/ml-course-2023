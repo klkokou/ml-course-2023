{
  "nbformat": 4,
  "nbformat_minor": 0,
  "metadata": {
    "colab": {
      "provenance": [],
      "authorship_tag": "ABX9TyM1mFSlehEZ39jJUT+4l0+4"
    },
    "kernelspec": {
      "name": "python3",
      "display_name": "Python 3"
    },
    "language_info": {
      "name": "python"
    }
  },
  "cells": [
    {
      "cell_type": "markdown",
      "metadata": {
        "id": "Sx9naxEGycrZ"
      },
      "source": [
        "# Предсказание цен машин с Юлы\n",
        "\n",
        "\n"
      ]
    },
    {
      "cell_type": "code",
      "execution_count": 1,
      "metadata": {
        "id": "qrfd6FzSLrE2"
      },
      "outputs": [],
      "source": [
        "from tensorflow.keras.models import Sequential\n",
        "from tensorflow.keras.layers import Dense, Activation, Dropout, BatchNormalization\n",
        "from tensorflow.keras import utils\n",
        "from tensorflow.keras.preprocessing import image\n",
        "from sklearn.model_selection import train_test_split\n",
        "from tensorflow.keras.optimizers import Adam, Adadelta # Алгоритмы оптимизации, для настройки скорости обучения\n",
        "import numpy as np # Библиотека работы с массивами\n",
        "import matplotlib.pyplot as plt\n",
        "import pandas as pd # Библиотека pandas\n",
        "from sklearn.preprocessing import LabelEncoder, StandardScaler # Функции для нормализации данных\n",
        "from sklearn import preprocessing\n"
      ]
    },
    {
      "cell_type": "code",
      "execution_count": 2,
      "metadata": {
        "colab": {
          "base_uri": "https://localhost:8080/",
          "height": 206
        },
        "id": "5v7Vz9VWynjF",
        "outputId": "04799871-e866-4653-c82f-dff0a0ea1431"
      },
      "outputs": [
        {
          "output_type": "execute_result",
          "data": {
            "text/plain": [
              "        mark                               model   price  year  mileage  \\\n",
              "0        kia                              cerato  996000  2018    28000   \n",
              "1     daewoo  nexia 1 поколение [2-й рестайлинг]  140200  2012    60500   \n",
              "2     suzuki      jimny 3 поколение [рестайлинг]  750000  2011    29000   \n",
              "3        bmw              x1 18 e84 [рестайлинг]  970000  2014    49500   \n",
              "4  chevrolet                 lacetti 1 поколение  205000  2007   151445   \n",
              "\n",
              "          body       kpp    fuel  volume  power  \n",
              "0        седан   автомат  бензин     2.0  150.0  \n",
              "1        седан  механика  бензин     1.5   80.0  \n",
              "2  внедорожник   автомат  бензин     1.3   85.0  \n",
              "3    кроссовер   автомат  бензин     2.0  150.0  \n",
              "4        седан  механика  бензин     1.4   95.0  "
            ],
            "text/html": [
              "\n",
              "  <div id=\"df-97b07451-5227-44eb-aed1-3f23299c413a\" class=\"colab-df-container\">\n",
              "    <div>\n",
              "<style scoped>\n",
              "    .dataframe tbody tr th:only-of-type {\n",
              "        vertical-align: middle;\n",
              "    }\n",
              "\n",
              "    .dataframe tbody tr th {\n",
              "        vertical-align: top;\n",
              "    }\n",
              "\n",
              "    .dataframe thead th {\n",
              "        text-align: right;\n",
              "    }\n",
              "</style>\n",
              "<table border=\"1\" class=\"dataframe\">\n",
              "  <thead>\n",
              "    <tr style=\"text-align: right;\">\n",
              "      <th></th>\n",
              "      <th>mark</th>\n",
              "      <th>model</th>\n",
              "      <th>price</th>\n",
              "      <th>year</th>\n",
              "      <th>mileage</th>\n",
              "      <th>body</th>\n",
              "      <th>kpp</th>\n",
              "      <th>fuel</th>\n",
              "      <th>volume</th>\n",
              "      <th>power</th>\n",
              "    </tr>\n",
              "  </thead>\n",
              "  <tbody>\n",
              "    <tr>\n",
              "      <th>0</th>\n",
              "      <td>kia</td>\n",
              "      <td>cerato</td>\n",
              "      <td>996000</td>\n",
              "      <td>2018</td>\n",
              "      <td>28000</td>\n",
              "      <td>седан</td>\n",
              "      <td>автомат</td>\n",
              "      <td>бензин</td>\n",
              "      <td>2.0</td>\n",
              "      <td>150.0</td>\n",
              "    </tr>\n",
              "    <tr>\n",
              "      <th>1</th>\n",
              "      <td>daewoo</td>\n",
              "      <td>nexia 1 поколение [2-й рестайлинг]</td>\n",
              "      <td>140200</td>\n",
              "      <td>2012</td>\n",
              "      <td>60500</td>\n",
              "      <td>седан</td>\n",
              "      <td>механика</td>\n",
              "      <td>бензин</td>\n",
              "      <td>1.5</td>\n",
              "      <td>80.0</td>\n",
              "    </tr>\n",
              "    <tr>\n",
              "      <th>2</th>\n",
              "      <td>suzuki</td>\n",
              "      <td>jimny 3 поколение [рестайлинг]</td>\n",
              "      <td>750000</td>\n",
              "      <td>2011</td>\n",
              "      <td>29000</td>\n",
              "      <td>внедорожник</td>\n",
              "      <td>автомат</td>\n",
              "      <td>бензин</td>\n",
              "      <td>1.3</td>\n",
              "      <td>85.0</td>\n",
              "    </tr>\n",
              "    <tr>\n",
              "      <th>3</th>\n",
              "      <td>bmw</td>\n",
              "      <td>x1 18 e84 [рестайлинг]</td>\n",
              "      <td>970000</td>\n",
              "      <td>2014</td>\n",
              "      <td>49500</td>\n",
              "      <td>кроссовер</td>\n",
              "      <td>автомат</td>\n",
              "      <td>бензин</td>\n",
              "      <td>2.0</td>\n",
              "      <td>150.0</td>\n",
              "    </tr>\n",
              "    <tr>\n",
              "      <th>4</th>\n",
              "      <td>chevrolet</td>\n",
              "      <td>lacetti 1 поколение</td>\n",
              "      <td>205000</td>\n",
              "      <td>2007</td>\n",
              "      <td>151445</td>\n",
              "      <td>седан</td>\n",
              "      <td>механика</td>\n",
              "      <td>бензин</td>\n",
              "      <td>1.4</td>\n",
              "      <td>95.0</td>\n",
              "    </tr>\n",
              "  </tbody>\n",
              "</table>\n",
              "</div>\n",
              "    <div class=\"colab-df-buttons\">\n",
              "\n",
              "  <div class=\"colab-df-container\">\n",
              "    <button class=\"colab-df-convert\" onclick=\"convertToInteractive('df-97b07451-5227-44eb-aed1-3f23299c413a')\"\n",
              "            title=\"Convert this dataframe to an interactive table.\"\n",
              "            style=\"display:none;\">\n",
              "\n",
              "  <svg xmlns=\"http://www.w3.org/2000/svg\" height=\"24px\" viewBox=\"0 -960 960 960\">\n",
              "    <path d=\"M120-120v-720h720v720H120Zm60-500h600v-160H180v160Zm220 220h160v-160H400v160Zm0 220h160v-160H400v160ZM180-400h160v-160H180v160Zm440 0h160v-160H620v160ZM180-180h160v-160H180v160Zm440 0h160v-160H620v160Z\"/>\n",
              "  </svg>\n",
              "    </button>\n",
              "\n",
              "  <style>\n",
              "    .colab-df-container {\n",
              "      display:flex;\n",
              "      gap: 12px;\n",
              "    }\n",
              "\n",
              "    .colab-df-convert {\n",
              "      background-color: #E8F0FE;\n",
              "      border: none;\n",
              "      border-radius: 50%;\n",
              "      cursor: pointer;\n",
              "      display: none;\n",
              "      fill: #1967D2;\n",
              "      height: 32px;\n",
              "      padding: 0 0 0 0;\n",
              "      width: 32px;\n",
              "    }\n",
              "\n",
              "    .colab-df-convert:hover {\n",
              "      background-color: #E2EBFA;\n",
              "      box-shadow: 0px 1px 2px rgba(60, 64, 67, 0.3), 0px 1px 3px 1px rgba(60, 64, 67, 0.15);\n",
              "      fill: #174EA6;\n",
              "    }\n",
              "\n",
              "    .colab-df-buttons div {\n",
              "      margin-bottom: 4px;\n",
              "    }\n",
              "\n",
              "    [theme=dark] .colab-df-convert {\n",
              "      background-color: #3B4455;\n",
              "      fill: #D2E3FC;\n",
              "    }\n",
              "\n",
              "    [theme=dark] .colab-df-convert:hover {\n",
              "      background-color: #434B5C;\n",
              "      box-shadow: 0px 1px 3px 1px rgba(0, 0, 0, 0.15);\n",
              "      filter: drop-shadow(0px 1px 2px rgba(0, 0, 0, 0.3));\n",
              "      fill: #FFFFFF;\n",
              "    }\n",
              "  </style>\n",
              "\n",
              "    <script>\n",
              "      const buttonEl =\n",
              "        document.querySelector('#df-97b07451-5227-44eb-aed1-3f23299c413a button.colab-df-convert');\n",
              "      buttonEl.style.display =\n",
              "        google.colab.kernel.accessAllowed ? 'block' : 'none';\n",
              "\n",
              "      async function convertToInteractive(key) {\n",
              "        const element = document.querySelector('#df-97b07451-5227-44eb-aed1-3f23299c413a');\n",
              "        const dataTable =\n",
              "          await google.colab.kernel.invokeFunction('convertToInteractive',\n",
              "                                                    [key], {});\n",
              "        if (!dataTable) return;\n",
              "\n",
              "        const docLinkHtml = 'Like what you see? Visit the ' +\n",
              "          '<a target=\"_blank\" href=https://colab.research.google.com/notebooks/data_table.ipynb>data table notebook</a>'\n",
              "          + ' to learn more about interactive tables.';\n",
              "        element.innerHTML = '';\n",
              "        dataTable['output_type'] = 'display_data';\n",
              "        await google.colab.output.renderOutput(dataTable, element);\n",
              "        const docLink = document.createElement('div');\n",
              "        docLink.innerHTML = docLinkHtml;\n",
              "        element.appendChild(docLink);\n",
              "      }\n",
              "    </script>\n",
              "  </div>\n",
              "\n",
              "\n",
              "<div id=\"df-c04350c1-32b2-4772-9dd8-ca2963311ec7\">\n",
              "  <button class=\"colab-df-quickchart\" onclick=\"quickchart('df-c04350c1-32b2-4772-9dd8-ca2963311ec7')\"\n",
              "            title=\"Suggest charts\"\n",
              "            style=\"display:none;\">\n",
              "\n",
              "<svg xmlns=\"http://www.w3.org/2000/svg\" height=\"24px\"viewBox=\"0 0 24 24\"\n",
              "     width=\"24px\">\n",
              "    <g>\n",
              "        <path d=\"M19 3H5c-1.1 0-2 .9-2 2v14c0 1.1.9 2 2 2h14c1.1 0 2-.9 2-2V5c0-1.1-.9-2-2-2zM9 17H7v-7h2v7zm4 0h-2V7h2v10zm4 0h-2v-4h2v4z\"/>\n",
              "    </g>\n",
              "</svg>\n",
              "  </button>\n",
              "\n",
              "<style>\n",
              "  .colab-df-quickchart {\n",
              "      --bg-color: #E8F0FE;\n",
              "      --fill-color: #1967D2;\n",
              "      --hover-bg-color: #E2EBFA;\n",
              "      --hover-fill-color: #174EA6;\n",
              "      --disabled-fill-color: #AAA;\n",
              "      --disabled-bg-color: #DDD;\n",
              "  }\n",
              "\n",
              "  [theme=dark] .colab-df-quickchart {\n",
              "      --bg-color: #3B4455;\n",
              "      --fill-color: #D2E3FC;\n",
              "      --hover-bg-color: #434B5C;\n",
              "      --hover-fill-color: #FFFFFF;\n",
              "      --disabled-bg-color: #3B4455;\n",
              "      --disabled-fill-color: #666;\n",
              "  }\n",
              "\n",
              "  .colab-df-quickchart {\n",
              "    background-color: var(--bg-color);\n",
              "    border: none;\n",
              "    border-radius: 50%;\n",
              "    cursor: pointer;\n",
              "    display: none;\n",
              "    fill: var(--fill-color);\n",
              "    height: 32px;\n",
              "    padding: 0;\n",
              "    width: 32px;\n",
              "  }\n",
              "\n",
              "  .colab-df-quickchart:hover {\n",
              "    background-color: var(--hover-bg-color);\n",
              "    box-shadow: 0 1px 2px rgba(60, 64, 67, 0.3), 0 1px 3px 1px rgba(60, 64, 67, 0.15);\n",
              "    fill: var(--button-hover-fill-color);\n",
              "  }\n",
              "\n",
              "  .colab-df-quickchart-complete:disabled,\n",
              "  .colab-df-quickchart-complete:disabled:hover {\n",
              "    background-color: var(--disabled-bg-color);\n",
              "    fill: var(--disabled-fill-color);\n",
              "    box-shadow: none;\n",
              "  }\n",
              "\n",
              "  .colab-df-spinner {\n",
              "    border: 2px solid var(--fill-color);\n",
              "    border-color: transparent;\n",
              "    border-bottom-color: var(--fill-color);\n",
              "    animation:\n",
              "      spin 1s steps(1) infinite;\n",
              "  }\n",
              "\n",
              "  @keyframes spin {\n",
              "    0% {\n",
              "      border-color: transparent;\n",
              "      border-bottom-color: var(--fill-color);\n",
              "      border-left-color: var(--fill-color);\n",
              "    }\n",
              "    20% {\n",
              "      border-color: transparent;\n",
              "      border-left-color: var(--fill-color);\n",
              "      border-top-color: var(--fill-color);\n",
              "    }\n",
              "    30% {\n",
              "      border-color: transparent;\n",
              "      border-left-color: var(--fill-color);\n",
              "      border-top-color: var(--fill-color);\n",
              "      border-right-color: var(--fill-color);\n",
              "    }\n",
              "    40% {\n",
              "      border-color: transparent;\n",
              "      border-right-color: var(--fill-color);\n",
              "      border-top-color: var(--fill-color);\n",
              "    }\n",
              "    60% {\n",
              "      border-color: transparent;\n",
              "      border-right-color: var(--fill-color);\n",
              "    }\n",
              "    80% {\n",
              "      border-color: transparent;\n",
              "      border-right-color: var(--fill-color);\n",
              "      border-bottom-color: var(--fill-color);\n",
              "    }\n",
              "    90% {\n",
              "      border-color: transparent;\n",
              "      border-bottom-color: var(--fill-color);\n",
              "    }\n",
              "  }\n",
              "</style>\n",
              "\n",
              "  <script>\n",
              "    async function quickchart(key) {\n",
              "      const quickchartButtonEl =\n",
              "        document.querySelector('#' + key + ' button');\n",
              "      quickchartButtonEl.disabled = true;  // To prevent multiple clicks.\n",
              "      quickchartButtonEl.classList.add('colab-df-spinner');\n",
              "      try {\n",
              "        const charts = await google.colab.kernel.invokeFunction(\n",
              "            'suggestCharts', [key], {});\n",
              "      } catch (error) {\n",
              "        console.error('Error during call to suggestCharts:', error);\n",
              "      }\n",
              "      quickchartButtonEl.classList.remove('colab-df-spinner');\n",
              "      quickchartButtonEl.classList.add('colab-df-quickchart-complete');\n",
              "    }\n",
              "    (() => {\n",
              "      let quickchartButtonEl =\n",
              "        document.querySelector('#df-c04350c1-32b2-4772-9dd8-ca2963311ec7 button');\n",
              "      quickchartButtonEl.style.display =\n",
              "        google.colab.kernel.accessAllowed ? 'block' : 'none';\n",
              "    })();\n",
              "  </script>\n",
              "</div>\n",
              "    </div>\n",
              "  </div>\n"
            ]
          },
          "metadata": {},
          "execution_count": 2
        }
      ],
      "source": [
        "cars = pd.read_csv('cars_new.csv', sep=',')\n",
        "cars[:5]"
      ]
    },
    {
      "cell_type": "code",
      "execution_count": 3,
      "metadata": {
        "colab": {
          "base_uri": "https://localhost:8080/"
        },
        "id": "-2014jPoywVZ",
        "outputId": "9b1234b6-44ac-4da8-8334-e91b7d840c1a"
      },
      "outputs": [
        {
          "output_type": "stream",
          "name": "stdout",
          "text": [
            "(70119, 10)\n"
          ]
        }
      ],
      "source": [
        "print(cars.values.shape)"
      ]
    },
    {
      "cell_type": "code",
      "execution_count": 4,
      "metadata": {
        "id": "w_3Pk5XeyxsT"
      },
      "outputs": [],
      "source": [
        "# Создаём словарь поле - его индекс\n",
        "def create_dict(s):\n",
        "  ret = {}                          # Создаём пустой словарь\n",
        "  for _id, name in enumerate(s):    # Проходим по всем парам - id и название\n",
        "    ret.update({name: _id})         # Добавляем в словарь\n",
        "  return ret\n",
        "\n",
        "# Функция преобразования в one hot encoding\n",
        "def to_ohe(value, d):\n",
        "  arr = [0] * len(d)\n",
        "  arr[d[value]] = 1\n",
        "  return arr"
      ]
    },
    {
      "cell_type": "code",
      "execution_count": 5,
      "metadata": {
        "id": "bUyCBzyYyz8s",
        "colab": {
          "base_uri": "https://localhost:8080/"
        },
        "outputId": "f9cba401-5d97-4707-be18-96caac258302"
      },
      "outputs": [
        {
          "output_type": "stream",
          "name": "stderr",
          "text": [
            "<ipython-input-5-006031011196>:9: DeprecationWarning: `np.float` is a deprecated alias for the builtin `float`. To silence this warning, use `float` by itself. Doing this will not modify any behavior and is safe. If you specifically wanted the numpy scalar type, use `np.float64` here.\n",
            "Deprecated in NumPy 1.20; for more details and guidance: https://numpy.org/devdocs/release/1.20.0-notes.html#deprecations\n",
            "  prices = np.array(cars['price'], dtype=np.float)\n"
          ]
        }
      ],
      "source": [
        "# Создаём словари по всем текстовым колонкам\n",
        "marks_dict = create_dict(set(cars['mark']))\n",
        "models_dict = create_dict(set(cars['model']))\n",
        "bodies_dict = create_dict(set(cars['body']))\n",
        "kpps_dict = create_dict(set(cars['kpp']))\n",
        "fuels_dict = create_dict(set(cars['fuel']))\n",
        "\n",
        "# Запоминаем цены\n",
        "prices = np.array(cars['price'], dtype=np.float)\n",
        "\n",
        "# Запоминаем числовые параметры\n",
        "# и нормируем\n",
        "years = preprocessing.scale(cars['year'])\n",
        "mileages = preprocessing.scale(cars['mileage'])\n",
        "volumes = preprocessing.scale(cars['volume'])\n",
        "powers = preprocessing.scale(cars['power'])"
      ]
    },
    {
      "cell_type": "code",
      "execution_count": 6,
      "metadata": {
        "colab": {
          "base_uri": "https://localhost:8080/"
        },
        "id": "E_W73oeey1TF",
        "outputId": "7ab94c0c-c8ad-4496-8a9c-8a60ad269b62"
      },
      "outputs": [
        {
          "output_type": "stream",
          "name": "stdout",
          "text": [
            "{'бензин': 0, 'дизель': 1, 'гибрид': 2, 'электро': 3, 'газ': 4}\n"
          ]
        }
      ],
      "source": [
        "print(fuels_dict)"
      ]
    },
    {
      "cell_type": "code",
      "execution_count": 7,
      "metadata": {
        "colab": {
          "base_uri": "https://localhost:8080/"
        },
        "id": "ZnAwYOCmLbQc",
        "outputId": "923d539a-6eb3-4eac-cebb-f31e1de7c716"
      },
      "outputs": [
        {
          "output_type": "execute_result",
          "data": {
            "text/plain": [
              "1.2879530757014324e-16"
            ]
          },
          "metadata": {},
          "execution_count": 7
        }
      ],
      "source": [
        "volumes.mean()"
      ]
    },
    {
      "cell_type": "code",
      "execution_count": 8,
      "metadata": {
        "colab": {
          "base_uri": "https://localhost:8080/"
        },
        "id": "_PJLhc-HLdDI",
        "outputId": "b90108eb-7c3c-4628-daab-16c36e6321f7"
      },
      "outputs": [
        {
          "output_type": "execute_result",
          "data": {
            "text/plain": [
              "1.0"
            ]
          },
          "metadata": {},
          "execution_count": 8
        }
      ],
      "source": [
        "volumes.std()"
      ]
    },
    {
      "cell_type": "code",
      "execution_count": 9,
      "metadata": {
        "colab": {
          "base_uri": "https://localhost:8080/"
        },
        "id": "jHEPEcKfy4MV",
        "outputId": "3f20cb76-0ad1-4424-e2ad-e2414affc0b0"
      },
      "outputs": [
        {
          "output_type": "stream",
          "name": "stdout",
          "text": [
            "[ 0.22905575 -0.95630346 -0.87163494 ...  0.22905575 -0.75309902\n",
            "  2.34576862]\n"
          ]
        }
      ],
      "source": [
        "print(powers)"
      ]
    },
    {
      "cell_type": "code",
      "execution_count": 10,
      "metadata": {
        "id": "fq_m4WUny4k3",
        "colab": {
          "base_uri": "https://localhost:8080/"
        },
        "outputId": "7d39d09c-2ac4-4d2e-8f9d-a6a04f0f439b"
      },
      "outputs": [
        {
          "output_type": "stream",
          "name": "stderr",
          "text": [
            "<ipython-input-10-b2ecf943cd42>:27: DeprecationWarning: `np.float` is a deprecated alias for the builtin `float`. To silence this warning, use `float` by itself. Doing this will not modify any behavior and is safe. If you specifically wanted the numpy scalar type, use `np.float64` here.\n",
            "Deprecated in NumPy 1.20; for more details and guidance: https://numpy.org/devdocs/release/1.20.0-notes.html#deprecations\n",
            "  x = np.array(x, dtype=np.float)\n",
            "<ipython-input-10-b2ecf943cd42>:28: DeprecationWarning: `np.float` is a deprecated alias for the builtin `float`. To silence this warning, use `float` by itself. Doing this will not modify any behavior and is safe. If you specifically wanted the numpy scalar type, use `np.float64` here.\n",
            "Deprecated in NumPy 1.20; for more details and guidance: https://numpy.org/devdocs/release/1.20.0-notes.html#deprecations\n",
            "  y = np.array(y, dtype=np.float)\n"
          ]
        }
      ],
      "source": [
        "# Создаём пустую обучающую выборку\n",
        "x = []\n",
        "y = []\n",
        "\n",
        "# Проходам по всем машинам\n",
        "for _id, car in enumerate(np.array(cars)):\n",
        "  # В y_train добавляем цену\n",
        "  y.append(prices[_id])\n",
        "\n",
        "  # В x_train объединяем все параметры\n",
        "  # Категорийные параметры добавляем в виде ohe\n",
        "  # Числовые параметры добавляем напрямую\n",
        "  x_tr = to_ohe(car[0], marks_dict) + \\\n",
        "        to_ohe(car[1], models_dict) + \\\n",
        "        to_ohe(car[5], bodies_dict) + \\\n",
        "        to_ohe(car[6], kpps_dict) + \\\n",
        "        to_ohe(car[7], fuels_dict) + \\\n",
        "        [years[_id]] + \\\n",
        "        [mileages[_id]] + \\\n",
        "        [volumes[_id]] + \\\n",
        "        [powers[_id]]\n",
        "\n",
        "  # Добавляем текущую строку в общий x_train\n",
        "  x.append(x_tr)\n",
        "\n",
        "# Превращаем лист в numpy.array\n",
        "x = np.array(x, dtype=np.float)\n",
        "y = np.array(y, dtype=np.float)"
      ]
    },
    {
      "cell_type": "code",
      "execution_count": 11,
      "metadata": {
        "colab": {
          "base_uri": "https://localhost:8080/"
        },
        "id": "S2IuqIWPy-nr",
        "outputId": "61948335-5f65-4bc5-fc98-15a27b837612"
      },
      "outputs": [
        {
          "output_type": "stream",
          "name": "stdout",
          "text": [
            "(70119, 3208)\n",
            "(70119,)\n"
          ]
        }
      ],
      "source": [
        "# Выводим размеры выборок\n",
        "print(x.shape)\n",
        "print(y.shape)"
      ]
    },
    {
      "cell_type": "code",
      "execution_count": 12,
      "metadata": {
        "colab": {
          "base_uri": "https://localhost:8080/"
        },
        "id": "tyNIVawgzDX6",
        "outputId": "c9055ef1-7feb-4e07-9f63-7d93624ab4e6"
      },
      "outputs": [
        {
          "output_type": "stream",
          "name": "stdout",
          "text": [
            "[0. 0. 0. 0. 0. 0. 0. 0. 1. 0. 0. 0. 0. 0. 0. 0. 0. 0. 0. 0.]\n",
            "[ 0.          0.          1.          0.          0.          0.\n",
            "  0.          0.          0.          1.          0.          1.\n",
            "  0.          0.          0.          0.          1.5200145  -1.40018212\n",
            "  0.12288486  0.22905575]\n"
          ]
        }
      ],
      "source": [
        "# Выводим один x_train\n",
        "print(x[0,:20])\n",
        "print(x[0,-20:])"
      ]
    },
    {
      "cell_type": "code",
      "execution_count": 13,
      "metadata": {
        "colab": {
          "base_uri": "https://localhost:8080/"
        },
        "id": "E06CfFFtzE4b",
        "outputId": "18de4eb4-b912-4eba-819f-f793d948b899"
      },
      "outputs": [
        {
          "output_type": "stream",
          "name": "stdout",
          "text": [
            "[ 996000.  140200.  750000.  970000.  205000.  985000.  589000.  500000.\n",
            " 1320000.  270000.]\n"
          ]
        }
      ],
      "source": [
        "# Выводим y_train\n",
        "print(y[:10])"
      ]
    },
    {
      "cell_type": "code",
      "execution_count": 14,
      "metadata": {
        "colab": {
          "base_uri": "https://localhost:8080/"
        },
        "id": "60HjttMmeB6C",
        "outputId": "f8b81625-cb93-49a6-f2cd-9ad1a20ff6bf"
      },
      "outputs": [
        {
          "output_type": "execute_result",
          "data": {
            "text/plain": [
              "(70119,)"
            ]
          },
          "metadata": {},
          "execution_count": 14
        }
      ],
      "source": [
        "y.shape"
      ]
    },
    {
      "cell_type": "code",
      "execution_count": 15,
      "metadata": {
        "colab": {
          "base_uri": "https://localhost:8080/"
        },
        "id": "Fyt6sUeueKfA",
        "outputId": "a69b2bf0-79e4-4760-fd01-ac52ed2570fe"
      },
      "outputs": [
        {
          "output_type": "execute_result",
          "data": {
            "text/plain": [
              "(70119, 1)"
            ]
          },
          "metadata": {},
          "execution_count": 15
        }
      ],
      "source": [
        "y.reshape(-1,1).shape"
      ]
    },
    {
      "cell_type": "code",
      "execution_count": 16,
      "metadata": {
        "id": "tetSCI-BzITK"
      },
      "outputs": [],
      "source": [
        "# Нормализуем y_train\n",
        "y_scaler = StandardScaler()\n",
        "y_train_scaled = y_scaler.fit_transform(y.reshape(-1,1)).flatten()\n",
        "\n",
        "# y_train.reshape(-1,1) добавляет одну размерность\n",
        "# Это нужно потому, что y_scaler.fit_transform\n",
        "# Требует двумерны вектор, массив примеров, которые надо нормализовать\n",
        "# Он не умеет работать с одним примеров\n",
        "# Поэтому мы делаем массив из одного примера\n",
        "# На выходе он так же выдаёт массив примеров\n",
        "# Но нам нужен только первый пример\n",
        "# Поэтому мы делаем flatten() - уменьшение размерности"
      ]
    },
    {
      "cell_type": "code",
      "execution_count": 17,
      "metadata": {
        "colab": {
          "base_uri": "https://localhost:8080/"
        },
        "id": "n3hq9mYkOEGK",
        "outputId": "321baba8-1a51-48ff-8d0b-686227c148fb"
      },
      "outputs": [
        {
          "output_type": "execute_result",
          "data": {
            "text/plain": [
              "(70119,)"
            ]
          },
          "metadata": {},
          "execution_count": 17
        }
      ],
      "source": [
        "y.shape"
      ]
    },
    {
      "cell_type": "code",
      "execution_count": 18,
      "metadata": {
        "colab": {
          "base_uri": "https://localhost:8080/"
        },
        "id": "v2k03NYbzI6q",
        "outputId": "a1eb5249-ea17-4f9a-c28f-bebcd7a44500"
      },
      "outputs": [
        {
          "output_type": "stream",
          "name": "stdout",
          "text": [
            "[ 996000.  140200.  750000.  970000.  205000.  985000.  589000.  500000.\n",
            " 1320000.  270000.]\n",
            "[ 0.75082432 -0.62135434  0.3563911   0.70913625 -0.51745486  0.73318706\n",
            "  0.09824578 -0.04445567  1.27032173 -0.4132347 ]\n"
          ]
        }
      ],
      "source": [
        "# Выводим базовый и нормированный y_train\n",
        "print(y[:10])\n",
        "print(y_train_scaled[:10])"
      ]
    },
    {
      "cell_type": "code",
      "execution_count": 19,
      "metadata": {
        "id": "qOmiU2IdepZn"
      },
      "outputs": [],
      "source": [
        "x_train, x_test, y_train, y_test = train_test_split(x, y, train_size=0.7, random_state=42, shuffle=True)"
      ]
    },
    {
      "cell_type": "code",
      "execution_count": 29,
      "metadata": {
        "id": "nRhXUb0TCbUp",
        "colab": {
          "base_uri": "https://localhost:8080/"
        },
        "outputId": "011c8063-dd12-47d8-ff7d-1667bff41846"
      },
      "outputs": [
        {
          "output_type": "stream",
          "name": "stdout",
          "text": [
            "Epoch 1/100\n",
            "561/561 [==============================] - 4s 6ms/step - loss: 653345423360.0000 - r2_score: -0.7392 - val_loss: 679267205120.0000 - val_r2_score: -0.6531\n",
            "Epoch 2/100\n",
            "561/561 [==============================] - 3s 5ms/step - loss: 625538957312.0000 - r2_score: -0.6651 - val_loss: 626583666688.0000 - val_r2_score: -0.5249\n",
            "Epoch 3/100\n",
            "561/561 [==============================] - 2s 4ms/step - loss: 545718599680.0000 - r2_score: -0.4527 - val_loss: 522946510848.0000 - val_r2_score: -0.2727\n",
            "Epoch 4/100\n",
            "561/561 [==============================] - 2s 4ms/step - loss: 432100605952.0000 - r2_score: -0.1502 - val_loss: 403818676224.0000 - val_r2_score: 0.0172\n",
            "Epoch 5/100\n",
            "561/561 [==============================] - 2s 4ms/step - loss: 324999774208.0000 - r2_score: 0.1349 - val_loss: 311695114240.0000 - val_r2_score: 0.2414\n",
            "Epoch 6/100\n",
            "561/561 [==============================] - 4s 6ms/step - loss: 258959917056.0000 - r2_score: 0.3107 - val_loss: 259077210112.0000 - val_r2_score: 0.3695\n",
            "Epoch 7/100\n",
            "561/561 [==============================] - 2s 4ms/step - loss: 222265262080.0000 - r2_score: 0.4083 - val_loss: 231622639616.0000 - val_r2_score: 0.4363\n",
            "Epoch 8/100\n",
            "561/561 [==============================] - 3s 5ms/step - loss: 207435563008.0000 - r2_score: 0.4478 - val_loss: 215909367808.0000 - val_r2_score: 0.4745\n",
            "Epoch 9/100\n",
            "561/561 [==============================] - 2s 4ms/step - loss: 194953248768.0000 - r2_score: 0.4810 - val_loss: 205586055168.0000 - val_r2_score: 0.4997\n",
            "Epoch 10/100\n",
            "561/561 [==============================] - 2s 4ms/step - loss: 186448560128.0000 - r2_score: 0.5037 - val_loss: 197661016064.0000 - val_r2_score: 0.5190\n",
            "Epoch 11/100\n",
            "561/561 [==============================] - 3s 6ms/step - loss: 179282509824.0000 - r2_score: 0.5228 - val_loss: 191878037504.0000 - val_r2_score: 0.5330\n",
            "Epoch 12/100\n",
            "561/561 [==============================] - 2s 4ms/step - loss: 175039037440.0000 - r2_score: 0.5341 - val_loss: 186711687168.0000 - val_r2_score: 0.5456\n",
            "Epoch 13/100\n",
            "561/561 [==============================] - 2s 4ms/step - loss: 171588665344.0000 - r2_score: 0.5432 - val_loss: 182606528512.0000 - val_r2_score: 0.5556\n",
            "Epoch 14/100\n",
            "561/561 [==============================] - 2s 4ms/step - loss: 163900194816.0000 - r2_score: 0.5637 - val_loss: 179051380736.0000 - val_r2_score: 0.5642\n",
            "Epoch 15/100\n",
            "561/561 [==============================] - 3s 5ms/step - loss: 164317462528.0000 - r2_score: 0.5626 - val_loss: 176022224896.0000 - val_r2_score: 0.5716\n",
            "Epoch 16/100\n",
            "561/561 [==============================] - 3s 5ms/step - loss: 159613304832.0000 - r2_score: 0.5751 - val_loss: 173420232704.0000 - val_r2_score: 0.5779\n",
            "Epoch 17/100\n",
            "561/561 [==============================] - 2s 4ms/step - loss: 161128333312.0000 - r2_score: 0.5711 - val_loss: 170848174080.0000 - val_r2_score: 0.5842\n",
            "Epoch 18/100\n",
            "561/561 [==============================] - 2s 4ms/step - loss: 153547538432.0000 - r2_score: 0.5913 - val_loss: 168525611008.0000 - val_r2_score: 0.5899\n",
            "Epoch 19/100\n",
            "561/561 [==============================] - 2s 4ms/step - loss: 150829678592.0000 - r2_score: 0.5985 - val_loss: 166421413888.0000 - val_r2_score: 0.5950\n",
            "Epoch 20/100\n",
            "561/561 [==============================] - 3s 5ms/step - loss: 150647635968.0000 - r2_score: 0.5990 - val_loss: 164588175360.0000 - val_r2_score: 0.5994\n",
            "Epoch 21/100\n",
            "561/561 [==============================] - 3s 5ms/step - loss: 150490529792.0000 - r2_score: 0.5994 - val_loss: 162632777728.0000 - val_r2_score: 0.6042\n",
            "Epoch 22/100\n",
            "561/561 [==============================] - 2s 4ms/step - loss: 150166667264.0000 - r2_score: 0.6003 - val_loss: 161029357568.0000 - val_r2_score: 0.6081\n",
            "Epoch 23/100\n",
            "561/561 [==============================] - 2s 4ms/step - loss: 145896947712.0000 - r2_score: 0.6116 - val_loss: 159476416512.0000 - val_r2_score: 0.6119\n",
            "Epoch 24/100\n",
            "561/561 [==============================] - 2s 4ms/step - loss: 145224073216.0000 - r2_score: 0.6134 - val_loss: 157906796544.0000 - val_r2_score: 0.6157\n",
            "Epoch 25/100\n",
            "561/561 [==============================] - 3s 4ms/step - loss: 139424743424.0000 - r2_score: 0.6289 - val_loss: 156442722304.0000 - val_r2_score: 0.6193\n",
            "Epoch 26/100\n",
            "561/561 [==============================] - 3s 6ms/step - loss: 141535477760.0000 - r2_score: 0.6232 - val_loss: 154982612992.0000 - val_r2_score: 0.6228\n",
            "Epoch 27/100\n",
            "561/561 [==============================] - 2s 4ms/step - loss: 138964271104.0000 - r2_score: 0.6301 - val_loss: 153610633216.0000 - val_r2_score: 0.6262\n",
            "Epoch 28/100\n",
            "561/561 [==============================] - 2s 4ms/step - loss: 138055172096.0000 - r2_score: 0.6325 - val_loss: 151833247744.0000 - val_r2_score: 0.6305\n",
            "Epoch 29/100\n",
            "561/561 [==============================] - 2s 4ms/step - loss: 134616875008.0000 - r2_score: 0.6417 - val_loss: 150270410752.0000 - val_r2_score: 0.6343\n",
            "Epoch 30/100\n",
            "561/561 [==============================] - 3s 6ms/step - loss: 134539624448.0000 - r2_score: 0.6419 - val_loss: 149088649216.0000 - val_r2_score: 0.6372\n",
            "Epoch 31/100\n",
            "561/561 [==============================] - 3s 5ms/step - loss: 132469121024.0000 - r2_score: 0.6474 - val_loss: 147300614144.0000 - val_r2_score: 0.6415\n",
            "Epoch 32/100\n",
            "561/561 [==============================] - 2s 4ms/step - loss: 132049584128.0000 - r2_score: 0.6485 - val_loss: 145579032576.0000 - val_r2_score: 0.6457\n",
            "Epoch 33/100\n",
            "561/561 [==============================] - 2s 4ms/step - loss: 131519922176.0000 - r2_score: 0.6499 - val_loss: 144003497984.0000 - val_r2_score: 0.6495\n",
            "Epoch 34/100\n",
            "561/561 [==============================] - 2s 4ms/step - loss: 126822473728.0000 - r2_score: 0.6624 - val_loss: 142527102976.0000 - val_r2_score: 0.6531\n",
            "Epoch 35/100\n",
            "561/561 [==============================] - 4s 6ms/step - loss: 124139110400.0000 - r2_score: 0.6696 - val_loss: 141080100864.0000 - val_r2_score: 0.6567\n",
            "Epoch 36/100\n",
            "561/561 [==============================] - 2s 4ms/step - loss: 126414872576.0000 - r2_score: 0.6635 - val_loss: 139485282304.0000 - val_r2_score: 0.6605\n",
            "Epoch 37/100\n",
            "561/561 [==============================] - 2s 4ms/step - loss: 123042799616.0000 - r2_score: 0.6725 - val_loss: 137935355904.0000 - val_r2_score: 0.6643\n",
            "Epoch 38/100\n",
            "561/561 [==============================] - 3s 5ms/step - loss: 121670582272.0000 - r2_score: 0.6761 - val_loss: 136378843136.0000 - val_r2_score: 0.6681\n",
            "Epoch 39/100\n",
            "561/561 [==============================] - 2s 4ms/step - loss: 120309784576.0000 - r2_score: 0.6797 - val_loss: 135016079360.0000 - val_r2_score: 0.6714\n",
            "Epoch 40/100\n",
            "561/561 [==============================] - 3s 6ms/step - loss: 117791834112.0000 - r2_score: 0.6864 - val_loss: 133613838336.0000 - val_r2_score: 0.6748\n",
            "Epoch 41/100\n",
            "561/561 [==============================] - 2s 4ms/step - loss: 118858391552.0000 - r2_score: 0.6836 - val_loss: 132188905472.0000 - val_r2_score: 0.6783\n",
            "Epoch 42/100\n",
            "561/561 [==============================] - 2s 4ms/step - loss: 113920614400.0000 - r2_score: 0.6968 - val_loss: 130726674432.0000 - val_r2_score: 0.6819\n",
            "Epoch 43/100\n",
            "561/561 [==============================] - 2s 4ms/step - loss: 115970351104.0000 - r2_score: 0.6913 - val_loss: 129479294976.0000 - val_r2_score: 0.6849\n",
            "Epoch 44/100\n",
            "561/561 [==============================] - 4s 6ms/step - loss: 114428747776.0000 - r2_score: 0.6954 - val_loss: 128282861568.0000 - val_r2_score: 0.6878\n",
            "Epoch 45/100\n",
            "561/561 [==============================] - 3s 5ms/step - loss: 113948024832.0000 - r2_score: 0.6967 - val_loss: 127053905920.0000 - val_r2_score: 0.6908\n",
            "Epoch 46/100\n",
            "561/561 [==============================] - 2s 4ms/step - loss: 111139061760.0000 - r2_score: 0.7042 - val_loss: 125895598080.0000 - val_r2_score: 0.6936\n",
            "Epoch 47/100\n",
            "561/561 [==============================] - 2s 4ms/step - loss: 110971551744.0000 - r2_score: 0.7046 - val_loss: 125011050496.0000 - val_r2_score: 0.6958\n",
            "Epoch 48/100\n",
            "561/561 [==============================] - 2s 4ms/step - loss: 110322278400.0000 - r2_score: 0.7063 - val_loss: 123916771328.0000 - val_r2_score: 0.6984\n",
            "Epoch 49/100\n",
            "561/561 [==============================] - 2s 4ms/step - loss: 106811695104.0000 - r2_score: 0.7157 - val_loss: 122909040640.0000 - val_r2_score: 0.7009\n",
            "Epoch 50/100\n",
            "561/561 [==============================] - 3s 6ms/step - loss: 103872643072.0000 - r2_score: 0.7235 - val_loss: 121590554624.0000 - val_r2_score: 0.7041\n",
            "Epoch 51/100\n",
            "561/561 [==============================] - 2s 4ms/step - loss: 107523416064.0000 - r2_score: 0.7138 - val_loss: 120663826432.0000 - val_r2_score: 0.7063\n",
            "Epoch 52/100\n",
            "561/561 [==============================] - 2s 4ms/step - loss: 106863288320.0000 - r2_score: 0.7155 - val_loss: 120060010496.0000 - val_r2_score: 0.7078\n",
            "Epoch 53/100\n",
            "561/561 [==============================] - 2s 4ms/step - loss: 101066924032.0000 - r2_score: 0.7310 - val_loss: 118986194944.0000 - val_r2_score: 0.7104\n",
            "Epoch 54/100\n",
            "561/561 [==============================] - 2s 4ms/step - loss: 103472611328.0000 - r2_score: 0.7246 - val_loss: 118144401408.0000 - val_r2_score: 0.7125\n",
            "Epoch 55/100\n",
            "561/561 [==============================] - 3s 6ms/step - loss: 104365424640.0000 - r2_score: 0.7222 - val_loss: 117182423040.0000 - val_r2_score: 0.7148\n",
            "Epoch 56/100\n",
            "561/561 [==============================] - 2s 4ms/step - loss: 100054114304.0000 - r2_score: 0.7337 - val_loss: 116380401664.0000 - val_r2_score: 0.7168\n",
            "Epoch 57/100\n",
            "561/561 [==============================] - 2s 4ms/step - loss: 97964818432.0000 - r2_score: 0.7392 - val_loss: 115642302464.0000 - val_r2_score: 0.7186\n",
            "Epoch 58/100\n",
            "561/561 [==============================] - 2s 4ms/step - loss: 98248433664.0000 - r2_score: 0.7385 - val_loss: 114990850048.0000 - val_r2_score: 0.7201\n",
            "Epoch 59/100\n",
            "561/561 [==============================] - 2s 4ms/step - loss: 97549926400.0000 - r2_score: 0.7403 - val_loss: 114140168192.0000 - val_r2_score: 0.7222\n",
            "Epoch 60/100\n",
            "561/561 [==============================] - 3s 6ms/step - loss: 96458031104.0000 - r2_score: 0.7432 - val_loss: 113662623744.0000 - val_r2_score: 0.7234\n",
            "Epoch 61/100\n",
            "561/561 [==============================] - 2s 4ms/step - loss: 98168905728.0000 - r2_score: 0.7387 - val_loss: 112994451456.0000 - val_r2_score: 0.7250\n",
            "Epoch 62/100\n",
            "561/561 [==============================] - 2s 4ms/step - loss: 96685776896.0000 - r2_score: 0.7426 - val_loss: 112068681728.0000 - val_r2_score: 0.7273\n",
            "Epoch 63/100\n",
            "561/561 [==============================] - 2s 4ms/step - loss: 95831605248.0000 - r2_score: 0.7449 - val_loss: 111557074944.0000 - val_r2_score: 0.7285\n",
            "Epoch 64/100\n",
            "561/561 [==============================] - 2s 4ms/step - loss: 94432460800.0000 - r2_score: 0.7486 - val_loss: 110908080128.0000 - val_r2_score: 0.7301\n",
            "Epoch 65/100\n",
            "561/561 [==============================] - 3s 6ms/step - loss: 92628115456.0000 - r2_score: 0.7534 - val_loss: 110204837888.0000 - val_r2_score: 0.7318\n",
            "Epoch 66/100\n",
            "561/561 [==============================] - 2s 4ms/step - loss: 94320091136.0000 - r2_score: 0.7489 - val_loss: 109972717568.0000 - val_r2_score: 0.7324\n",
            "Epoch 67/100\n",
            "561/561 [==============================] - 2s 4ms/step - loss: 92288393216.0000 - r2_score: 0.7543 - val_loss: 109188300800.0000 - val_r2_score: 0.7343\n",
            "Epoch 68/100\n",
            "561/561 [==============================] - 2s 4ms/step - loss: 90505601024.0000 - r2_score: 0.7591 - val_loss: 108517138432.0000 - val_r2_score: 0.7359\n",
            "Epoch 69/100\n",
            "561/561 [==============================] - 2s 4ms/step - loss: 92145606656.0000 - r2_score: 0.7547 - val_loss: 107941199872.0000 - val_r2_score: 0.7373\n",
            "Epoch 70/100\n",
            "561/561 [==============================] - 3s 6ms/step - loss: 91247935488.0000 - r2_score: 0.7571 - val_loss: 107335147520.0000 - val_r2_score: 0.7388\n",
            "Epoch 71/100\n",
            "561/561 [==============================] - 2s 4ms/step - loss: 89602736128.0000 - r2_score: 0.7615 - val_loss: 106717954048.0000 - val_r2_score: 0.7403\n",
            "Epoch 72/100\n",
            "561/561 [==============================] - 2s 4ms/step - loss: 87160905728.0000 - r2_score: 0.7680 - val_loss: 106172694528.0000 - val_r2_score: 0.7416\n",
            "Epoch 73/100\n",
            "561/561 [==============================] - 2s 4ms/step - loss: 88412561408.0000 - r2_score: 0.7647 - val_loss: 105758760960.0000 - val_r2_score: 0.7426\n",
            "Epoch 74/100\n",
            "561/561 [==============================] - 2s 4ms/step - loss: 87924031488.0000 - r2_score: 0.7660 - val_loss: 105243115520.0000 - val_r2_score: 0.7439\n",
            "Epoch 75/100\n",
            "561/561 [==============================] - 3s 6ms/step - loss: 87045726208.0000 - r2_score: 0.7683 - val_loss: 104744968192.0000 - val_r2_score: 0.7451\n",
            "Epoch 76/100\n",
            "561/561 [==============================] - 2s 4ms/step - loss: 90397392896.0000 - r2_score: 0.7594 - val_loss: 104467185664.0000 - val_r2_score: 0.7458\n",
            "Epoch 77/100\n",
            "561/561 [==============================] - 2s 4ms/step - loss: 85049663488.0000 - r2_score: 0.7736 - val_loss: 104060256256.0000 - val_r2_score: 0.7467\n",
            "Epoch 78/100\n",
            "561/561 [==============================] - 2s 4ms/step - loss: 84099375104.0000 - r2_score: 0.7761 - val_loss: 103287996416.0000 - val_r2_score: 0.7486\n",
            "Epoch 79/100\n",
            "561/561 [==============================] - 2s 4ms/step - loss: 84822589440.0000 - r2_score: 0.7742 - val_loss: 102916767744.0000 - val_r2_score: 0.7495\n",
            "Epoch 80/100\n",
            "561/561 [==============================] - 3s 6ms/step - loss: 86839173120.0000 - r2_score: 0.7688 - val_loss: 102512967680.0000 - val_r2_score: 0.7505\n",
            "Epoch 81/100\n",
            "561/561 [==============================] - 2s 4ms/step - loss: 87537803264.0000 - r2_score: 0.7670 - val_loss: 102052790272.0000 - val_r2_score: 0.7516\n",
            "Epoch 82/100\n",
            "561/561 [==============================] - 2s 4ms/step - loss: 85165056000.0000 - r2_score: 0.7733 - val_loss: 101524791296.0000 - val_r2_score: 0.7529\n",
            "Epoch 83/100\n",
            "561/561 [==============================] - 2s 4ms/step - loss: 85313757184.0000 - r2_score: 0.7729 - val_loss: 101184077824.0000 - val_r2_score: 0.7537\n",
            "Epoch 84/100\n",
            "561/561 [==============================] - 2s 4ms/step - loss: 80035586048.0000 - r2_score: 0.7870 - val_loss: 100839096320.0000 - val_r2_score: 0.7546\n",
            "Epoch 85/100\n",
            "561/561 [==============================] - 3s 6ms/step - loss: 82598019072.0000 - r2_score: 0.7801 - val_loss: 100446314496.0000 - val_r2_score: 0.7555\n",
            "Epoch 86/100\n",
            "561/561 [==============================] - 2s 4ms/step - loss: 83221782528.0000 - r2_score: 0.7785 - val_loss: 100088586240.0000 - val_r2_score: 0.7564\n",
            "Epoch 87/100\n",
            "561/561 [==============================] - 2s 4ms/step - loss: 80855367680.0000 - r2_score: 0.7848 - val_loss: 99770015744.0000 - val_r2_score: 0.7572\n",
            "Epoch 88/100\n",
            "561/561 [==============================] - 2s 4ms/step - loss: 83218325504.0000 - r2_score: 0.7785 - val_loss: 99515252736.0000 - val_r2_score: 0.7578\n",
            "Epoch 89/100\n",
            "561/561 [==============================] - 2s 4ms/step - loss: 78315216896.0000 - r2_score: 0.7915 - val_loss: 99114729472.0000 - val_r2_score: 0.7588\n",
            "Epoch 90/100\n",
            "561/561 [==============================] - 3s 6ms/step - loss: 79751290880.0000 - r2_score: 0.7877 - val_loss: 98458263552.0000 - val_r2_score: 0.7604\n",
            "Epoch 91/100\n",
            "561/561 [==============================] - 2s 4ms/step - loss: 80471621632.0000 - r2_score: 0.7858 - val_loss: 98188599296.0000 - val_r2_score: 0.7610\n",
            "Epoch 92/100\n",
            "561/561 [==============================] - 2s 4ms/step - loss: 80786497536.0000 - r2_score: 0.7850 - val_loss: 98066055168.0000 - val_r2_score: 0.7613\n",
            "Epoch 93/100\n",
            "561/561 [==============================] - 2s 4ms/step - loss: 80833183744.0000 - r2_score: 0.7848 - val_loss: 97710718976.0000 - val_r2_score: 0.7622\n",
            "Epoch 94/100\n",
            "561/561 [==============================] - 2s 4ms/step - loss: 79439396864.0000 - r2_score: 0.7885 - val_loss: 97225293824.0000 - val_r2_score: 0.7634\n",
            "Epoch 95/100\n",
            "561/561 [==============================] - 3s 6ms/step - loss: 78292582400.0000 - r2_score: 0.7916 - val_loss: 96939835392.0000 - val_r2_score: 0.7641\n",
            "Epoch 96/100\n",
            "561/561 [==============================] - 2s 4ms/step - loss: 78560600064.0000 - r2_score: 0.7909 - val_loss: 96685219840.0000 - val_r2_score: 0.7647\n",
            "Epoch 97/100\n",
            "561/561 [==============================] - 2s 4ms/step - loss: 78677843968.0000 - r2_score: 0.7906 - val_loss: 96346816512.0000 - val_r2_score: 0.7655\n",
            "Epoch 98/100\n",
            "561/561 [==============================] - 2s 4ms/step - loss: 81331470336.0000 - r2_score: 0.7835 - val_loss: 96079110144.0000 - val_r2_score: 0.7662\n",
            "Epoch 99/100\n",
            "561/561 [==============================] - 2s 4ms/step - loss: 78448377856.0000 - r2_score: 0.7912 - val_loss: 95649325056.0000 - val_r2_score: 0.7672\n",
            "Epoch 100/100\n",
            "561/561 [==============================] - 3s 6ms/step - loss: 75321925632.0000 - r2_score: 0.7995 - val_loss: 95557672960.0000 - val_r2_score: 0.7674\n"
          ]
        }
      ],
      "source": [
        "from tensorflow import keras\n",
        "model_ula = Sequential()\n",
        "model_ula.add(Dense(60, activation='relu', input_shape=(x_train.shape[1],)))\n",
        "model_ula.add(Dropout(0.3))\n",
        "model_ula.add(Dense(30, activation='relu'))\n",
        "model_ula.add(Dropout(0.3))\n",
        "model_ula.add(Dense(1, activation='linear'))\n",
        "# training\n",
        "model_ula.compile(optimizer='adam', loss='mse', metrics=[keras.metrics.R2Score()])\n",
        "history = model_ula.fit(x_train, y_train, validation_split=0.2, batch_size=70, epochs=100)\n"
      ]
    },
    {
      "cell_type": "code",
      "source": [
        "y_pred = model_ula.predict(x_test)"
      ],
      "metadata": {
        "colab": {
          "base_uri": "https://localhost:8080/"
        },
        "id": "fLZ--lwtqSNE",
        "outputId": "8b338420-ebdd-44a1-9e3c-ab4fd8919617"
      },
      "execution_count": 30,
      "outputs": [
        {
          "output_type": "stream",
          "name": "stdout",
          "text": [
            "658/658 [==============================] - 3s 4ms/step\n"
          ]
        }
      ]
    },
    {
      "cell_type": "code",
      "source": [
        "history.history['r2_score']"
      ],
      "metadata": {
        "colab": {
          "base_uri": "https://localhost:8080/"
        },
        "id": "WFGJb55W3GET",
        "outputId": "934314be-479f-467e-c731-36219527d631"
      },
      "execution_count": 34,
      "outputs": [
        {
          "output_type": "execute_result",
          "data": {
            "text/plain": [
              "[-0.7391530275344849,\n",
              " -0.6651339530944824,\n",
              " -0.4526560306549072,\n",
              " -0.1502162218093872,\n",
              " 0.13487863540649414,\n",
              " 0.31067025661468506,\n",
              " 0.408348023891449,\n",
              " 0.4478238821029663,\n",
              " 0.48104989528656006,\n",
              " 0.5036903619766235,\n",
              " 0.5227642059326172,\n",
              " 0.5340608358383179,\n",
              " 0.543245792388916,\n",
              " 0.5637110471725464,\n",
              " 0.5626002550125122,\n",
              " 0.5751224160194397,\n",
              " 0.5710893869400024,\n",
              " 0.5912693738937378,\n",
              " 0.5985039472579956,\n",
              " 0.59898841381073,\n",
              " 0.5994068384170532,\n",
              " 0.6002690196037292,\n",
              " 0.6116350889205933,\n",
              " 0.6134254932403564,\n",
              " 0.6288625597953796,\n",
              " 0.6232446432113647,\n",
              " 0.6300882697105408,\n",
              " 0.6325081586837769,\n",
              " 0.6416610479354858,\n",
              " 0.6418666839599609,\n",
              " 0.6473779678344727,\n",
              " 0.648495078086853,\n",
              " 0.6499044895172119,\n",
              " 0.6624093651771545,\n",
              " 0.6695519685745239,\n",
              " 0.6634944081306458,\n",
              " 0.6724697947502136,\n",
              " 0.6761224269866943,\n",
              " 0.6797453761100769,\n",
              " 0.6864478588104248,\n",
              " 0.6836085319519043,\n",
              " 0.6967527866363525,\n",
              " 0.6912962794303894,\n",
              " 0.6953997611999512,\n",
              " 0.696679949760437,\n",
              " 0.7041571140289307,\n",
              " 0.7046034336090088,\n",
              " 0.7063314914703369,\n",
              " 0.715675950050354,\n",
              " 0.7235000133514404,\n",
              " 0.7137812376022339,\n",
              " 0.7155387997627258,\n",
              " 0.7309682369232178,\n",
              " 0.724564790725708,\n",
              " 0.7221882939338684,\n",
              " 0.7336642742156982,\n",
              " 0.7392256259918213,\n",
              " 0.7384709119796753,\n",
              " 0.7403299808502197,\n",
              " 0.7432368397712708,\n",
              " 0.738682746887207,\n",
              " 0.7426302433013916,\n",
              " 0.7449041604995728,\n",
              " 0.7486284971237183,\n",
              " 0.7534316182136536,\n",
              " 0.748927652835846,\n",
              " 0.7543359398841858,\n",
              " 0.7590817213058472,\n",
              " 0.7547160387039185,\n",
              " 0.7571057081222534,\n",
              " 0.7614846229553223,\n",
              " 0.7679850459098816,\n",
              " 0.7646532654762268,\n",
              " 0.7659532427787781,\n",
              " 0.7682918310165405,\n",
              " 0.7593697309494019,\n",
              " 0.7736049294471741,\n",
              " 0.7761348485946655,\n",
              " 0.7742094397544861,\n",
              " 0.7688414454460144,\n",
              " 0.7669816017150879,\n",
              " 0.7732976675033569,\n",
              " 0.7729021310806274,\n",
              " 0.7869523167610168,\n",
              " 0.7801312208175659,\n",
              " 0.7784703969955444,\n",
              " 0.7847695350646973,\n",
              " 0.7784798741340637,\n",
              " 0.7915310859680176,\n",
              " 0.7877087593078613,\n",
              " 0.7857913374900818,\n",
              " 0.784953236579895,\n",
              " 0.7848289608955383,\n",
              " 0.7885394096374512,\n",
              " 0.7915917634963989,\n",
              " 0.7908779978752136,\n",
              " 0.7905662655830383,\n",
              " 0.7835025787353516,\n",
              " 0.7911773920059204,\n",
              " 0.7994990944862366]"
            ]
          },
          "metadata": {},
          "execution_count": 34
        }
      ]
    },
    {
      "cell_type": "code",
      "source": [
        "plt.plot(history.history['r2_score'], label='val_r2_score')\n",
        "plt.title('Обучение модели')\n",
        "plt.legend(['r2_score'])\n",
        "plt.show()"
      ],
      "metadata": {
        "colab": {
          "base_uri": "https://localhost:8080/",
          "height": 452
        },
        "id": "hP2cLxdU0UKN",
        "outputId": "8473bd4d-6423-4052-d979-041f731ae732"
      },
      "execution_count": 35,
      "outputs": [
        {
          "output_type": "display_data",
          "data": {
            "text/plain": [
              "<Figure size 640x480 with 1 Axes>"
            ],
            "image/png": "[encoded data removed]"
          },
          "metadata": {}
        }
      ]
    },
    {
      "cell_type": "code",
      "source": [
        "plt.plot(history.history['loss'],\n",
        "         label='Ошибка на обучающем наборе')\n",
        "plt.plot(history.history['val_loss'],\n",
        "         label='Ошибка на проверочном наборе')\n",
        "plt.xlabel('Эпоха обучения')\n",
        "plt.ylabel('Ошибка')\n",
        "plt.legend()\n",
        "plt.show()"
      ],
      "metadata": {
        "colab": {
          "base_uri": "https://localhost:8080/",
          "height": 465
        },
        "id": "jOaYnadQqUZ1",
        "outputId": "d7024cea-4e14-4b68-8dfd-e646c6b01c05"
      },
      "execution_count": 36,
      "outputs": [
        {
          "output_type": "display_data",
          "data": {
            "text/plain": [
              "<Figure size 640x480 with 1 Axes>"
            ],
            "image/png": "[encoded data removed]"
          },
          "metadata": {}
        }
      ]
    }
  ]
}