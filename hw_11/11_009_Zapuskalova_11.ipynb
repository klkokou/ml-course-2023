{
  "nbformat": 4,
  "nbformat_minor": 0,
  "metadata": {
    "colab": {
      "provenance": []
    },
    "kernelspec": {
      "name": "python3",
      "display_name": "Python 3"
    },
    "language_info": {
      "name": "python"
    }
  },
  "cells": [
    {
      "cell_type": "markdown",
      "metadata": {
        "id": "Sx9naxEGycrZ"
      },
      "source": [
        "# Предсказание цен машин с Юлы\n",
        "\n",
        "\n"
      ]
    },
    {
      "cell_type": "code",
      "execution_count": 26,
      "metadata": {
        "id": "qrfd6FzSLrE2"
      },
      "outputs": [],
      "source": [
        "from tensorflow.keras.models import Sequential\n",
        "from tensorflow.keras.layers import Dense, Activation, Dropout, BatchNormalization\n",
        "from tensorflow.keras import utils\n",
        "from tensorflow.keras.preprocessing import image\n",
        "from sklearn.model_selection import train_test_split\n",
        "from tensorflow.keras.optimizers import Adam, Adadelta # Алгоритмы оптимизации, для настройки скорости обучения\n",
        "import numpy as np # Библиотека работы с массивами\n",
        "import matplotlib.pyplot as plt\n",
        "import pandas as pd # Библиотека pandas\n",
        "from sklearn.preprocessing import LabelEncoder, StandardScaler # Функции для нормализации данных\n",
        "from sklearn import preprocessing\n"
      ]
    },
    {
      "cell_type": "code",
      "execution_count": 7,
      "metadata": {
        "colab": {
          "base_uri": "https://localhost:8080/",
          "height": 241
        },
        "id": "5v7Vz9VWynjF",
        "outputId": "5fbbeb7a-4d22-497b-f6c7-0f6067830a4c"
      },
      "outputs": [
        {
          "output_type": "execute_result",
          "data": {
            "text/plain": [
              "        mark                               model   price  year  mileage  \\\n",
              "0        kia                              cerato  996000  2018    28000   \n",
              "1     daewoo  nexia 1 поколение [2-й рестайлинг]  140200  2012    60500   \n",
              "2     suzuki      jimny 3 поколение [рестайлинг]  750000  2011    29000   \n",
              "3        bmw              x1 18 e84 [рестайлинг]  970000  2014    49500   \n",
              "4  chevrolet                 lacetti 1 поколение  205000  2007   151445   \n",
              "\n",
              "          body       kpp    fuel  volume  power  \n",
              "0        седан   автомат  бензин     2.0  150.0  \n",
              "1        седан  механика  бензин     1.5   80.0  \n",
              "2  внедорожник   автомат  бензин     1.3   85.0  \n",
              "3    кроссовер   автомат  бензин     2.0  150.0  \n",
              "4        седан  механика  бензин     1.4   95.0  "
            ],
            "text/html": [
              "\n",
              "  <div id=\"df-b64e4799-5b38-4d82-b581-9e908acc4516\" class=\"colab-df-container\">\n",
              "    <div>\n",
              "<style scoped>\n",
              "    .dataframe tbody tr th:only-of-type {\n",
              "        vertical-align: middle;\n",
              "    }\n",
              "\n",
              "    .dataframe tbody tr th {\n",
              "        vertical-align: top;\n",
              "    }\n",
              "\n",
              "    .dataframe thead th {\n",
              "        text-align: right;\n",
              "    }\n",
              "</style>\n",
              "<table border=\"1\" class=\"dataframe\">\n",
              "  <thead>\n",
              "    <tr style=\"text-align: right;\">\n",
              "      <th></th>\n",
              "      <th>mark</th>\n",
              "      <th>model</th>\n",
              "      <th>price</th>\n",
              "      <th>year</th>\n",
              "      <th>mileage</th>\n",
              "      <th>body</th>\n",
              "      <th>kpp</th>\n",
              "      <th>fuel</th>\n",
              "      <th>volume</th>\n",
              "      <th>power</th>\n",
              "    </tr>\n",
              "  </thead>\n",
              "  <tbody>\n",
              "    <tr>\n",
              "      <th>0</th>\n",
              "      <td>kia</td>\n",
              "      <td>cerato</td>\n",
              "      <td>996000</td>\n",
              "      <td>2018</td>\n",
              "      <td>28000</td>\n",
              "      <td>седан</td>\n",
              "      <td>автомат</td>\n",
              "      <td>бензин</td>\n",
              "      <td>2.0</td>\n",
              "      <td>150.0</td>\n",
              "    </tr>\n",
              "    <tr>\n",
              "      <th>1</th>\n",
              "      <td>daewoo</td>\n",
              "      <td>nexia 1 поколение [2-й рестайлинг]</td>\n",
              "      <td>140200</td>\n",
              "      <td>2012</td>\n",
              "      <td>60500</td>\n",
              "      <td>седан</td>\n",
              "      <td>механика</td>\n",
              "      <td>бензин</td>\n",
              "      <td>1.5</td>\n",
              "      <td>80.0</td>\n",
              "    </tr>\n",
              "    <tr>\n",
              "      <th>2</th>\n",
              "      <td>suzuki</td>\n",
              "      <td>jimny 3 поколение [рестайлинг]</td>\n",
              "      <td>750000</td>\n",
              "      <td>2011</td>\n",
              "      <td>29000</td>\n",
              "      <td>внедорожник</td>\n",
              "      <td>автомат</td>\n",
              "      <td>бензин</td>\n",
              "      <td>1.3</td>\n",
              "      <td>85.0</td>\n",
              "    </tr>\n",
              "    <tr>\n",
              "      <th>3</th>\n",
              "      <td>bmw</td>\n",
              "      <td>x1 18 e84 [рестайлинг]</td>\n",
              "      <td>970000</td>\n",
              "      <td>2014</td>\n",
              "      <td>49500</td>\n",
              "      <td>кроссовер</td>\n",
              "      <td>автомат</td>\n",
              "      <td>бензин</td>\n",
              "      <td>2.0</td>\n",
              "      <td>150.0</td>\n",
              "    </tr>\n",
              "    <tr>\n",
              "      <th>4</th>\n",
              "      <td>chevrolet</td>\n",
              "      <td>lacetti 1 поколение</td>\n",
              "      <td>205000</td>\n",
              "      <td>2007</td>\n",
              "      <td>151445</td>\n",
              "      <td>седан</td>\n",
              "      <td>механика</td>\n",
              "      <td>бензин</td>\n",
              "      <td>1.4</td>\n",
              "      <td>95.0</td>\n",
              "    </tr>\n",
              "  </tbody>\n",
              "</table>\n",
              "</div>\n",
              "    <div class=\"colab-df-buttons\">\n",
              "\n",
              "  <div class=\"colab-df-container\">\n",
              "    <button class=\"colab-df-convert\" onclick=\"convertToInteractive('df-b64e4799-5b38-4d82-b581-9e908acc4516')\"\n",
              "            title=\"Convert this dataframe to an interactive table.\"\n",
              "            style=\"display:none;\">\n",
              "\n",
              "  <svg xmlns=\"http://www.w3.org/2000/svg\" height=\"24px\" viewBox=\"0 -960 960 960\">\n",
              "    <path d=\"M120-120v-720h720v720H120Zm60-500h600v-160H180v160Zm220 220h160v-160H400v160Zm0 220h160v-160H400v160ZM180-400h160v-160H180v160Zm440 0h160v-160H620v160ZM180-180h160v-160H180v160Zm440 0h160v-160H620v160Z\"/>\n",
              "  </svg>\n",
              "    </button>\n",
              "\n",
              "  <style>\n",
              "    .colab-df-container {\n",
              "      display:flex;\n",
              "      gap: 12px;\n",
              "    }\n",
              "\n",
              "    .colab-df-convert {\n",
              "      background-color: #E8F0FE;\n",
              "      border: none;\n",
              "      border-radius: 50%;\n",
              "      cursor: pointer;\n",
              "      display: none;\n",
              "      fill: #1967D2;\n",
              "      height: 32px;\n",
              "      padding: 0 0 0 0;\n",
              "      width: 32px;\n",
              "    }\n",
              "\n",
              "    .colab-df-convert:hover {\n",
              "      background-color: #E2EBFA;\n",
              "      box-shadow: 0px 1px 2px rgba(60, 64, 67, 0.3), 0px 1px 3px 1px rgba(60, 64, 67, 0.15);\n",
              "      fill: #174EA6;\n",
              "    }\n",
              "\n",
              "    .colab-df-buttons div {\n",
              "      margin-bottom: 4px;\n",
              "    }\n",
              "\n",
              "    [theme=dark] .colab-df-convert {\n",
              "      background-color: #3B4455;\n",
              "      fill: #D2E3FC;\n",
              "    }\n",
              "\n",
              "    [theme=dark] .colab-df-convert:hover {\n",
              "      background-color: #434B5C;\n",
              "      box-shadow: 0px 1px 3px 1px rgba(0, 0, 0, 0.15);\n",
              "      filter: drop-shadow(0px 1px 2px rgba(0, 0, 0, 0.3));\n",
              "      fill: #FFFFFF;\n",
              "    }\n",
              "  </style>\n",
              "\n",
              "    <script>\n",
              "      const buttonEl =\n",
              "        document.querySelector('#df-b64e4799-5b38-4d82-b581-9e908acc4516 button.colab-df-convert');\n",
              "      buttonEl.style.display =\n",
              "        google.colab.kernel.accessAllowed ? 'block' : 'none';\n",
              "\n",
              "      async function convertToInteractive(key) {\n",
              "        const element = document.querySelector('#df-b64e4799-5b38-4d82-b581-9e908acc4516');\n",
              "        const dataTable =\n",
              "          await google.colab.kernel.invokeFunction('convertToInteractive',\n",
              "                                                    [key], {});\n",
              "        if (!dataTable) return;\n",
              "\n",
              "        const docLinkHtml = 'Like what you see? Visit the ' +\n",
              "          '<a target=\"_blank\" href=https://colab.research.google.com/notebooks/data_table.ipynb>data table notebook</a>'\n",
              "          + ' to learn more about interactive tables.';\n",
              "        element.innerHTML = '';\n",
              "        dataTable['output_type'] = 'display_data';\n",
              "        await google.colab.output.renderOutput(dataTable, element);\n",
              "        const docLink = document.createElement('div');\n",
              "        docLink.innerHTML = docLinkHtml;\n",
              "        element.appendChild(docLink);\n",
              "      }\n",
              "    </script>\n",
              "  </div>\n",
              "\n",
              "\n",
              "<div id=\"df-f7a6c0db-db2a-4322-a50c-b3a2c0a2f707\">\n",
              "  <button class=\"colab-df-quickchart\" onclick=\"quickchart('df-f7a6c0db-db2a-4322-a50c-b3a2c0a2f707')\"\n",
              "            title=\"Suggest charts\"\n",
              "            style=\"display:none;\">\n",
              "\n",
              "<svg xmlns=\"http://www.w3.org/2000/svg\" height=\"24px\"viewBox=\"0 0 24 24\"\n",
              "     width=\"24px\">\n",
              "    <g>\n",
              "        <path d=\"M19 3H5c-1.1 0-2 .9-2 2v14c0 1.1.9 2 2 2h14c1.1 0 2-.9 2-2V5c0-1.1-.9-2-2-2zM9 17H7v-7h2v7zm4 0h-2V7h2v10zm4 0h-2v-4h2v4z\"/>\n",
              "    </g>\n",
              "</svg>\n",
              "  </button>\n",
              "\n",
              "<style>\n",
              "  .colab-df-quickchart {\n",
              "      --bg-color: #E8F0FE;\n",
              "      --fill-color: #1967D2;\n",
              "      --hover-bg-color: #E2EBFA;\n",
              "      --hover-fill-color: #174EA6;\n",
              "      --disabled-fill-color: #AAA;\n",
              "      --disabled-bg-color: #DDD;\n",
              "  }\n",
              "\n",
              "  [theme=dark] .colab-df-quickchart {\n",
              "      --bg-color: #3B4455;\n",
              "      --fill-color: #D2E3FC;\n",
              "      --hover-bg-color: #434B5C;\n",
              "      --hover-fill-color: #FFFFFF;\n",
              "      --disabled-bg-color: #3B4455;\n",
              "      --disabled-fill-color: #666;\n",
              "  }\n",
              "\n",
              "  .colab-df-quickchart {\n",
              "    background-color: var(--bg-color);\n",
              "    border: none;\n",
              "    border-radius: 50%;\n",
              "    cursor: pointer;\n",
              "    display: none;\n",
              "    fill: var(--fill-color);\n",
              "    height: 32px;\n",
              "    padding: 0;\n",
              "    width: 32px;\n",
              "  }\n",
              "\n",
              "  .colab-df-quickchart:hover {\n",
              "    background-color: var(--hover-bg-color);\n",
              "    box-shadow: 0 1px 2px rgba(60, 64, 67, 0.3), 0 1px 3px 1px rgba(60, 64, 67, 0.15);\n",
              "    fill: var(--button-hover-fill-color);\n",
              "  }\n",
              "\n",
              "  .colab-df-quickchart-complete:disabled,\n",
              "  .colab-df-quickchart-complete:disabled:hover {\n",
              "    background-color: var(--disabled-bg-color);\n",
              "    fill: var(--disabled-fill-color);\n",
              "    box-shadow: none;\n",
              "  }\n",
              "\n",
              "  .colab-df-spinner {\n",
              "    border: 2px solid var(--fill-color);\n",
              "    border-color: transparent;\n",
              "    border-bottom-color: var(--fill-color);\n",
              "    animation:\n",
              "      spin 1s steps(1) infinite;\n",
              "  }\n",
              "\n",
              "  @keyframes spin {\n",
              "    0% {\n",
              "      border-color: transparent;\n",
              "      border-bottom-color: var(--fill-color);\n",
              "      border-left-color: var(--fill-color);\n",
              "    }\n",
              "    20% {\n",
              "      border-color: transparent;\n",
              "      border-left-color: var(--fill-color);\n",
              "      border-top-color: var(--fill-color);\n",
              "    }\n",
              "    30% {\n",
              "      border-color: transparent;\n",
              "      border-left-color: var(--fill-color);\n",
              "      border-top-color: var(--fill-color);\n",
              "      border-right-color: var(--fill-color);\n",
              "    }\n",
              "    40% {\n",
              "      border-color: transparent;\n",
              "      border-right-color: var(--fill-color);\n",
              "      border-top-color: var(--fill-color);\n",
              "    }\n",
              "    60% {\n",
              "      border-color: transparent;\n",
              "      border-right-color: var(--fill-color);\n",
              "    }\n",
              "    80% {\n",
              "      border-color: transparent;\n",
              "      border-right-color: var(--fill-color);\n",
              "      border-bottom-color: var(--fill-color);\n",
              "    }\n",
              "    90% {\n",
              "      border-color: transparent;\n",
              "      border-bottom-color: var(--fill-color);\n",
              "    }\n",
              "  }\n",
              "</style>\n",
              "\n",
              "  <script>\n",
              "    async function quickchart(key) {\n",
              "      const quickchartButtonEl =\n",
              "        document.querySelector('#' + key + ' button');\n",
              "      quickchartButtonEl.disabled = true;  // To prevent multiple clicks.\n",
              "      quickchartButtonEl.classList.add('colab-df-spinner');\n",
              "      try {\n",
              "        const charts = await google.colab.kernel.invokeFunction(\n",
              "            'suggestCharts', [key], {});\n",
              "      } catch (error) {\n",
              "        console.error('Error during call to suggestCharts:', error);\n",
              "      }\n",
              "      quickchartButtonEl.classList.remove('colab-df-spinner');\n",
              "      quickchartButtonEl.classList.add('colab-df-quickchart-complete');\n",
              "    }\n",
              "    (() => {\n",
              "      let quickchartButtonEl =\n",
              "        document.querySelector('#df-f7a6c0db-db2a-4322-a50c-b3a2c0a2f707 button');\n",
              "      quickchartButtonEl.style.display =\n",
              "        google.colab.kernel.accessAllowed ? 'block' : 'none';\n",
              "    })();\n",
              "  </script>\n",
              "</div>\n",
              "    </div>\n",
              "  </div>\n"
            ]
          },
          "metadata": {},
          "execution_count": 7
        }
      ],
      "source": [
        "cars = pd.read_csv('cars_new.csv', sep=',')\n",
        "cars[:5]"
      ]
    },
    {
      "cell_type": "code",
      "execution_count": 8,
      "metadata": {
        "colab": {
          "base_uri": "https://localhost:8080/"
        },
        "id": "-2014jPoywVZ",
        "outputId": "39b00bb8-9b3d-4fbe-9498-e7ae7c8d05b9"
      },
      "outputs": [
        {
          "output_type": "stream",
          "name": "stdout",
          "text": [
            "(70119, 10)\n"
          ]
        }
      ],
      "source": [
        "print(cars.values.shape)"
      ]
    },
    {
      "cell_type": "code",
      "execution_count": 9,
      "metadata": {
        "id": "w_3Pk5XeyxsT"
      },
      "outputs": [],
      "source": [
        "# Создаём словарь поле - его индекс\n",
        "def create_dict(s):\n",
        "  ret = {}                          # Создаём пустой словарь\n",
        "  for _id, name in enumerate(s):    # Проходим по всем парам - id и название\n",
        "    ret.update({name: _id})         # Добавляем в словарь\n",
        "  return ret\n",
        "\n",
        "# Функция преобразования в one hot encoding\n",
        "def to_ohe(value, d):\n",
        "  arr = [0] * len(d)\n",
        "  arr[d[value]] = 1\n",
        "  return arr"
      ]
    },
    {
      "cell_type": "code",
      "execution_count": 10,
      "metadata": {
        "id": "bUyCBzyYyz8s",
        "colab": {
          "base_uri": "https://localhost:8080/"
        },
        "outputId": "ecc40b34-3616-4b73-d2cd-bab5f4376ce2"
      },
      "outputs": [
        {
          "output_type": "stream",
          "name": "stderr",
          "text": [
            "<ipython-input-10-006031011196>:9: DeprecationWarning: `np.float` is a deprecated alias for the builtin `float`. To silence this warning, use `float` by itself. Doing this will not modify any behavior and is safe. If you specifically wanted the numpy scalar type, use `np.float64` here.\n",
            "Deprecated in NumPy 1.20; for more details and guidance: https://numpy.org/devdocs/release/1.20.0-notes.html#deprecations\n",
            "  prices = np.array(cars['price'], dtype=np.float)\n"
          ]
        }
      ],
      "source": [
        "# Создаём словари по всем текстовым колонкам\n",
        "marks_dict = create_dict(set(cars['mark']))\n",
        "models_dict = create_dict(set(cars['model']))\n",
        "bodies_dict = create_dict(set(cars['body']))\n",
        "kpps_dict = create_dict(set(cars['kpp']))\n",
        "fuels_dict = create_dict(set(cars['fuel']))\n",
        "\n",
        "# Запоминаем цены\n",
        "prices = np.array(cars['price'], dtype=np.float)\n",
        "\n",
        "# Запоминаем числовые параметры\n",
        "# и нормируем\n",
        "years = preprocessing.scale(cars['year'])\n",
        "mileages = preprocessing.scale(cars['mileage'])\n",
        "volumes = preprocessing.scale(cars['volume'])\n",
        "powers = preprocessing.scale(cars['power'])"
      ]
    },
    {
      "cell_type": "code",
      "execution_count": 11,
      "metadata": {
        "colab": {
          "base_uri": "https://localhost:8080/"
        },
        "id": "E_W73oeey1TF",
        "outputId": "3f207fba-7348-46dd-f0e1-329e26490503"
      },
      "outputs": [
        {
          "output_type": "stream",
          "name": "stdout",
          "text": [
            "{'электро': 0, 'дизель': 1, 'бензин': 2, 'газ': 3, 'гибрид': 4}\n"
          ]
        }
      ],
      "source": [
        "print(fuels_dict)"
      ]
    },
    {
      "cell_type": "code",
      "execution_count": 12,
      "metadata": {
        "colab": {
          "base_uri": "https://localhost:8080/"
        },
        "id": "ZnAwYOCmLbQc",
        "outputId": "83c243eb-8dbb-467a-ad2a-c94692af22e7"
      },
      "outputs": [
        {
          "output_type": "execute_result",
          "data": {
            "text/plain": [
              "1.2879530757014324e-16"
            ]
          },
          "metadata": {},
          "execution_count": 12
        }
      ],
      "source": [
        "volumes.mean()"
      ]
    },
    {
      "cell_type": "code",
      "execution_count": 13,
      "metadata": {
        "colab": {
          "base_uri": "https://localhost:8080/"
        },
        "id": "_PJLhc-HLdDI",
        "outputId": "62c9b01b-2dda-4e65-ba36-d0e2c11dd885"
      },
      "outputs": [
        {
          "output_type": "execute_result",
          "data": {
            "text/plain": [
              "1.0"
            ]
          },
          "metadata": {},
          "execution_count": 13
        }
      ],
      "source": [
        "volumes.std()"
      ]
    },
    {
      "cell_type": "code",
      "execution_count": 14,
      "metadata": {
        "colab": {
          "base_uri": "https://localhost:8080/"
        },
        "id": "jHEPEcKfy4MV",
        "outputId": "947f338c-7df1-40b3-adb8-3b828d86e03d"
      },
      "outputs": [
        {
          "output_type": "stream",
          "name": "stdout",
          "text": [
            "[ 0.22905575 -0.95630346 -0.87163494 ...  0.22905575 -0.75309902\n",
            "  2.34576862]\n"
          ]
        }
      ],
      "source": [
        "print(powers)"
      ]
    },
    {
      "cell_type": "code",
      "execution_count": 28,
      "metadata": {
        "id": "fq_m4WUny4k3",
        "colab": {
          "base_uri": "https://localhost:8080/"
        },
        "outputId": "18f07595-127d-4e87-a470-e78a1b48459f"
      },
      "outputs": [
        {
          "output_type": "stream",
          "name": "stderr",
          "text": [
            "<ipython-input-28-b2ecf943cd42>:27: DeprecationWarning: `np.float` is a deprecated alias for the builtin `float`. To silence this warning, use `float` by itself. Doing this will not modify any behavior and is safe. If you specifically wanted the numpy scalar type, use `np.float64` here.\n",
            "Deprecated in NumPy 1.20; for more details and guidance: https://numpy.org/devdocs/release/1.20.0-notes.html#deprecations\n",
            "  x = np.array(x, dtype=np.float)\n",
            "<ipython-input-28-b2ecf943cd42>:28: DeprecationWarning: `np.float` is a deprecated alias for the builtin `float`. To silence this warning, use `float` by itself. Doing this will not modify any behavior and is safe. If you specifically wanted the numpy scalar type, use `np.float64` here.\n",
            "Deprecated in NumPy 1.20; for more details and guidance: https://numpy.org/devdocs/release/1.20.0-notes.html#deprecations\n",
            "  y = np.array(y, dtype=np.float)\n"
          ]
        }
      ],
      "source": [
        "# Создаём пустую обучающую выборку\n",
        "x = []\n",
        "y = []\n",
        "\n",
        "# Проходам по всем машинам\n",
        "for _id, car in enumerate(np.array(cars)):\n",
        "  # В y_train добавляем цену\n",
        "  y.append(prices[_id])\n",
        "\n",
        "  # В x_train объединяем все параметры\n",
        "  # Категорийные параметры добавляем в виде ohe\n",
        "  # Числовые параметры добавляем напрямую\n",
        "  x_tr = to_ohe(car[0], marks_dict) + \\\n",
        "        to_ohe(car[1], models_dict) + \\\n",
        "        to_ohe(car[5], bodies_dict) + \\\n",
        "        to_ohe(car[6], kpps_dict) + \\\n",
        "        to_ohe(car[7], fuels_dict) + \\\n",
        "        [years[_id]] + \\\n",
        "        [mileages[_id]] + \\\n",
        "        [volumes[_id]] + \\\n",
        "        [powers[_id]]\n",
        "\n",
        "  # Добавляем текущую строку в общий x_train\n",
        "  x.append(x_tr)\n",
        "\n",
        "# Превращаем лист в numpy.array\n",
        "x = np.array(x, dtype=np.float)\n",
        "y = np.array(y, dtype=np.float)"
      ]
    },
    {
      "cell_type": "code",
      "execution_count": 29,
      "metadata": {
        "colab": {
          "base_uri": "https://localhost:8080/"
        },
        "id": "S2IuqIWPy-nr",
        "outputId": "88895ebf-3d7e-4be4-f973-fbeacfbe9ce8"
      },
      "outputs": [
        {
          "output_type": "stream",
          "name": "stdout",
          "text": [
            "(70119, 3208)\n",
            "(70119,)\n"
          ]
        }
      ],
      "source": [
        "# Выводим размеры выборок\n",
        "print(x.shape)\n",
        "print(y.shape)"
      ]
    },
    {
      "cell_type": "code",
      "execution_count": 30,
      "metadata": {
        "colab": {
          "base_uri": "https://localhost:8080/"
        },
        "id": "tyNIVawgzDX6",
        "outputId": "155d016d-3a28-4807-f661-ac9f6feaba5a"
      },
      "outputs": [
        {
          "output_type": "stream",
          "name": "stdout",
          "text": [
            "[0. 0. 0. 0. 0. 0. 0. 0. 0. 0. 1. 0. 0. 0. 0. 0. 0. 0. 0. 0.]\n",
            "[ 0.          0.          0.          0.          0.          0.\n",
            "  0.          0.          1.          0.          0.          0.\n",
            "  0.          1.          0.          0.          1.5200145  -1.40018212\n",
            "  0.12288486  0.22905575]\n"
          ]
        }
      ],
      "source": [
        "# Выводим один x_train\n",
        "print(x[0,:20])\n",
        "print(x[0,-20:])"
      ]
    },
    {
      "cell_type": "code",
      "execution_count": 31,
      "metadata": {
        "colab": {
          "base_uri": "https://localhost:8080/"
        },
        "id": "E06CfFFtzE4b",
        "outputId": "bcde3468-08d3-4e9d-f5c0-07221504712c"
      },
      "outputs": [
        {
          "output_type": "stream",
          "name": "stdout",
          "text": [
            "[ 996000.  140200.  750000.  970000.  205000.  985000.  589000.  500000.\n",
            " 1320000.  270000.]\n"
          ]
        }
      ],
      "source": [
        "# Выводим y_train\n",
        "print(y[:10])"
      ]
    },
    {
      "cell_type": "code",
      "execution_count": 32,
      "metadata": {
        "colab": {
          "base_uri": "https://localhost:8080/"
        },
        "id": "60HjttMmeB6C",
        "outputId": "ce840529-955b-45dc-e4b5-9dfe447a3f5e"
      },
      "outputs": [
        {
          "output_type": "execute_result",
          "data": {
            "text/plain": [
              "(70119,)"
            ]
          },
          "metadata": {},
          "execution_count": 32
        }
      ],
      "source": [
        "y.shape"
      ]
    },
    {
      "cell_type": "code",
      "execution_count": 33,
      "metadata": {
        "colab": {
          "base_uri": "https://localhost:8080/"
        },
        "id": "Fyt6sUeueKfA",
        "outputId": "646b622e-94dd-4484-c260-77e274b6d3d0"
      },
      "outputs": [
        {
          "output_type": "execute_result",
          "data": {
            "text/plain": [
              "(70119, 1)"
            ]
          },
          "metadata": {},
          "execution_count": 33
        }
      ],
      "source": [
        "y.reshape(-1,1).shape"
      ]
    },
    {
      "cell_type": "code",
      "execution_count": 35,
      "metadata": {
        "id": "tetSCI-BzITK"
      },
      "outputs": [],
      "source": [
        "# Нормализуем y_train\n",
        "y_scaler = StandardScaler()\n",
        "y_train_scaled = y_scaler.fit_transform(y.reshape(-1,1)).flatten()\n",
        "\n",
        "# y_train.reshape(-1,1) добавляет одну размерность\n",
        "# Это нужно потому, что y_scaler.fit_transform\n",
        "# Требует двумерны вектор, массив примеров, которые надо нормализовать\n",
        "# Он не умеет работать с одним примеров\n",
        "# Поэтому мы делаем массив из одного примера\n",
        "# На выходе он так же выдаёт массив примеров\n",
        "# Но нам нужен только первый пример\n",
        "# Поэтому мы делаем flatten() - уменьшение размерности"
      ]
    },
    {
      "cell_type": "code",
      "execution_count": 36,
      "metadata": {
        "colab": {
          "base_uri": "https://localhost:8080/"
        },
        "id": "n3hq9mYkOEGK",
        "outputId": "25dfb4ee-f372-48c2-ed48-cad06682d425"
      },
      "outputs": [
        {
          "output_type": "execute_result",
          "data": {
            "text/plain": [
              "(70119,)"
            ]
          },
          "metadata": {},
          "execution_count": 36
        }
      ],
      "source": [
        "y.shape"
      ]
    },
    {
      "cell_type": "code",
      "execution_count": 37,
      "metadata": {
        "colab": {
          "base_uri": "https://localhost:8080/"
        },
        "id": "v2k03NYbzI6q",
        "outputId": "8fc7c4dc-d547-4e77-9def-efa4904d8876"
      },
      "outputs": [
        {
          "output_type": "stream",
          "name": "stdout",
          "text": [
            "[ 996000.  140200.  750000.  970000.  205000.  985000.  589000.  500000.\n",
            " 1320000.  270000.]\n",
            "[ 0.75082432 -0.62135434  0.3563911   0.70913625 -0.51745486  0.73318706\n",
            "  0.09824578 -0.04445567  1.27032173 -0.4132347 ]\n"
          ]
        }
      ],
      "source": [
        "# Выводим базовый и нормированный y_train\n",
        "print(y[:10])\n",
        "print(y_train_scaled[:10])"
      ]
    },
    {
      "cell_type": "code",
      "execution_count": 38,
      "metadata": {
        "id": "qOmiU2IdepZn"
      },
      "outputs": [],
      "source": [
        "x_train, x_test, y_train, y_test = train_test_split(x, y, train_size=0.7, random_state=42, shuffle=True)"
      ]
    },
    {
      "cell_type": "code",
      "execution_count": 48,
      "metadata": {
        "id": "nRhXUb0TCbUp",
        "colab": {
          "base_uri": "https://localhost:8080/"
        },
        "outputId": "bee3d010-5661-4f1d-e118-9068afa7da93"
      },
      "outputs": [
        {
          "output_type": "stream",
          "name": "stdout",
          "text": [
            "Epoch 1/100\n",
            "393/393 [==============================] - 4s 10ms/step - loss: 654912716800.0000 - accuracy: 0.0000e+00 - val_loss: 685727088640.0000 - val_accuracy: 0.0000e+00\n",
            "Epoch 2/100\n",
            "393/393 [==============================] - 3s 9ms/step - loss: 649081389056.0000 - accuracy: 0.0000e+00 - val_loss: 674237579264.0000 - val_accuracy: 0.0000e+00\n",
            "Epoch 3/100\n",
            "393/393 [==============================] - 3s 7ms/step - loss: 630199287808.0000 - accuracy: 0.0000e+00 - val_loss: 647159414784.0000 - val_accuracy: 0.0000e+00\n",
            "Epoch 4/100\n",
            "393/393 [==============================] - 3s 7ms/step - loss: 593848696832.0000 - accuracy: 0.0000e+00 - val_loss: 602257752064.0000 - val_accuracy: 0.0000e+00\n",
            "Epoch 5/100\n",
            "393/393 [==============================] - 3s 8ms/step - loss: 540828336128.0000 - accuracy: 0.0000e+00 - val_loss: 542697422848.0000 - val_accuracy: 0.0000e+00\n",
            "Epoch 6/100\n",
            "393/393 [==============================] - 4s 11ms/step - loss: 477501358080.0000 - accuracy: 0.0000e+00 - val_loss: 475839070208.0000 - val_accuracy: 0.0000e+00\n",
            "Epoch 7/100\n",
            "393/393 [==============================] - 3s 7ms/step - loss: 411469447168.0000 - accuracy: 0.0000e+00 - val_loss: 408963284992.0000 - val_accuracy: 0.0000e+00\n",
            "Epoch 8/100\n",
            "393/393 [==============================] - 3s 7ms/step - loss: 349458464768.0000 - accuracy: 0.0000e+00 - val_loss: 350008377344.0000 - val_accuracy: 0.0000e+00\n",
            "Epoch 9/100\n",
            "393/393 [==============================] - 3s 7ms/step - loss: 299841388544.0000 - accuracy: 0.0000e+00 - val_loss: 304207462400.0000 - val_accuracy: 0.0000e+00\n",
            "Epoch 10/100\n",
            "393/393 [==============================] - 4s 10ms/step - loss: 264112848896.0000 - accuracy: 0.0000e+00 - val_loss: 272092299264.0000 - val_accuracy: 0.0000e+00\n",
            "Epoch 11/100\n",
            "393/393 [==============================] - 3s 8ms/step - loss: 240283435008.0000 - accuracy: 0.0000e+00 - val_loss: 249892552704.0000 - val_accuracy: 0.0000e+00\n",
            "Epoch 12/100\n",
            "393/393 [==============================] - 3s 7ms/step - loss: 223891472384.0000 - accuracy: 0.0000e+00 - val_loss: 234446913536.0000 - val_accuracy: 0.0000e+00\n",
            "Epoch 13/100\n",
            "393/393 [==============================] - 3s 7ms/step - loss: 214079373312.0000 - accuracy: 0.0000e+00 - val_loss: 223287885824.0000 - val_accuracy: 0.0000e+00\n",
            "Epoch 14/100\n",
            "393/393 [==============================] - 3s 8ms/step - loss: 209888313344.0000 - accuracy: 0.0000e+00 - val_loss: 214915268608.0000 - val_accuracy: 0.0000e+00\n",
            "Epoch 15/100\n",
            "393/393 [==============================] - 4s 10ms/step - loss: 200263761920.0000 - accuracy: 0.0000e+00 - val_loss: 208094560256.0000 - val_accuracy: 0.0000e+00\n",
            "Epoch 16/100\n",
            "393/393 [==============================] - 3s 7ms/step - loss: 194011365376.0000 - accuracy: 0.0000e+00 - val_loss: 202613866496.0000 - val_accuracy: 0.0000e+00\n",
            "Epoch 17/100\n",
            "393/393 [==============================] - 3s 7ms/step - loss: 190782750720.0000 - accuracy: 0.0000e+00 - val_loss: 198058606592.0000 - val_accuracy: 0.0000e+00\n",
            "Epoch 18/100\n",
            "393/393 [==============================] - 3s 7ms/step - loss: 184774017024.0000 - accuracy: 0.0000e+00 - val_loss: 194184462336.0000 - val_accuracy: 0.0000e+00\n",
            "Epoch 19/100\n",
            "393/393 [==============================] - 4s 11ms/step - loss: 183240622080.0000 - accuracy: 0.0000e+00 - val_loss: 190691475456.0000 - val_accuracy: 0.0000e+00\n",
            "Epoch 20/100\n",
            "393/393 [==============================] - 3s 7ms/step - loss: 181225127936.0000 - accuracy: 0.0000e+00 - val_loss: 187565883392.0000 - val_accuracy: 0.0000e+00\n",
            "Epoch 21/100\n",
            "393/393 [==============================] - 3s 7ms/step - loss: 177312104448.0000 - accuracy: 0.0000e+00 - val_loss: 184883101696.0000 - val_accuracy: 0.0000e+00\n",
            "Epoch 22/100\n",
            "393/393 [==============================] - 3s 7ms/step - loss: 180277952512.0000 - accuracy: 0.0000e+00 - val_loss: 182601154560.0000 - val_accuracy: 0.0000e+00\n",
            "Epoch 23/100\n",
            "393/393 [==============================] - 4s 9ms/step - loss: 175129313280.0000 - accuracy: 0.0000e+00 - val_loss: 180311326720.0000 - val_accuracy: 0.0000e+00\n",
            "Epoch 24/100\n",
            "393/393 [==============================] - 3s 9ms/step - loss: 173390102528.0000 - accuracy: 0.0000e+00 - val_loss: 178264358912.0000 - val_accuracy: 0.0000e+00\n",
            "Epoch 25/100\n",
            "393/393 [==============================] - 3s 8ms/step - loss: 168125349888.0000 - accuracy: 0.0000e+00 - val_loss: 176231268352.0000 - val_accuracy: 0.0000e+00\n",
            "Epoch 26/100\n",
            "393/393 [==============================] - 3s 7ms/step - loss: 166844612608.0000 - accuracy: 0.0000e+00 - val_loss: 174270644224.0000 - val_accuracy: 0.0000e+00\n",
            "Epoch 27/100\n",
            "393/393 [==============================] - 4s 10ms/step - loss: 166130384896.0000 - accuracy: 0.0000e+00 - val_loss: 172381765632.0000 - val_accuracy: 0.0000e+00\n",
            "Epoch 28/100\n",
            "393/393 [==============================] - 4s 10ms/step - loss: 161952088064.0000 - accuracy: 0.0000e+00 - val_loss: 170743758848.0000 - val_accuracy: 0.0000e+00\n",
            "Epoch 29/100\n",
            "393/393 [==============================] - 3s 7ms/step - loss: 161625669632.0000 - accuracy: 0.0000e+00 - val_loss: 169378938880.0000 - val_accuracy: 0.0000e+00\n",
            "Epoch 30/100\n",
            "393/393 [==============================] - 3s 7ms/step - loss: 159096127488.0000 - accuracy: 0.0000e+00 - val_loss: 167769767936.0000 - val_accuracy: 0.0000e+00\n",
            "Epoch 31/100\n",
            "393/393 [==============================] - 3s 7ms/step - loss: 160210812928.0000 - accuracy: 0.0000e+00 - val_loss: 166695616512.0000 - val_accuracy: 0.0000e+00\n",
            "Epoch 32/100\n",
            "393/393 [==============================] - 4s 10ms/step - loss: 157053124608.0000 - accuracy: 0.0000e+00 - val_loss: 165338857472.0000 - val_accuracy: 0.0000e+00\n",
            "Epoch 33/100\n",
            "393/393 [==============================] - 3s 8ms/step - loss: 156110618624.0000 - accuracy: 0.0000e+00 - val_loss: 164372234240.0000 - val_accuracy: 0.0000e+00\n",
            "Epoch 34/100\n",
            "393/393 [==============================] - 3s 7ms/step - loss: 157401448448.0000 - accuracy: 0.0000e+00 - val_loss: 163205398528.0000 - val_accuracy: 0.0000e+00\n",
            "Epoch 35/100\n",
            "393/393 [==============================] - 3s 7ms/step - loss: 150216163328.0000 - accuracy: 0.0000e+00 - val_loss: 161881243648.0000 - val_accuracy: 0.0000e+00\n",
            "Epoch 36/100\n",
            "393/393 [==============================] - 3s 9ms/step - loss: 152724602880.0000 - accuracy: 0.0000e+00 - val_loss: 160960135168.0000 - val_accuracy: 0.0000e+00\n",
            "Epoch 37/100\n",
            "393/393 [==============================] - 4s 10ms/step - loss: 152772001792.0000 - accuracy: 0.0000e+00 - val_loss: 160043171840.0000 - val_accuracy: 0.0000e+00\n",
            "Epoch 38/100\n",
            "393/393 [==============================] - 3s 7ms/step - loss: 151550574592.0000 - accuracy: 0.0000e+00 - val_loss: 158963761152.0000 - val_accuracy: 0.0000e+00\n",
            "Epoch 39/100\n",
            "393/393 [==============================] - 3s 7ms/step - loss: 149944713216.0000 - accuracy: 0.0000e+00 - val_loss: 158056579072.0000 - val_accuracy: 0.0000e+00\n",
            "Epoch 40/100\n",
            "393/393 [==============================] - 3s 7ms/step - loss: 149616607232.0000 - accuracy: 0.0000e+00 - val_loss: 157264412672.0000 - val_accuracy: 0.0000e+00\n",
            "Epoch 41/100\n",
            "393/393 [==============================] - 4s 11ms/step - loss: 147231391744.0000 - accuracy: 0.0000e+00 - val_loss: 156133916672.0000 - val_accuracy: 0.0000e+00\n",
            "Epoch 42/100\n",
            "393/393 [==============================] - 3s 7ms/step - loss: 147626311680.0000 - accuracy: 0.0000e+00 - val_loss: 155291975680.0000 - val_accuracy: 0.0000e+00\n",
            "Epoch 43/100\n",
            "393/393 [==============================] - 3s 7ms/step - loss: 148399505408.0000 - accuracy: 0.0000e+00 - val_loss: 154453458944.0000 - val_accuracy: 0.0000e+00\n",
            "Epoch 44/100\n",
            "393/393 [==============================] - 3s 7ms/step - loss: 144577871872.0000 - accuracy: 0.0000e+00 - val_loss: 153331023872.0000 - val_accuracy: 0.0000e+00\n",
            "Epoch 45/100\n",
            "393/393 [==============================] - 4s 9ms/step - loss: 146825691136.0000 - accuracy: 0.0000e+00 - val_loss: 152362008576.0000 - val_accuracy: 0.0000e+00\n",
            "Epoch 46/100\n",
            "393/393 [==============================] - 4s 9ms/step - loss: 141383483392.0000 - accuracy: 0.0000e+00 - val_loss: 151519625216.0000 - val_accuracy: 0.0000e+00\n",
            "Epoch 47/100\n",
            "393/393 [==============================] - 3s 7ms/step - loss: 140317884416.0000 - accuracy: 0.0000e+00 - val_loss: 150503309312.0000 - val_accuracy: 0.0000e+00\n",
            "Epoch 48/100\n",
            "393/393 [==============================] - 3s 7ms/step - loss: 142383742976.0000 - accuracy: 0.0000e+00 - val_loss: 149516582912.0000 - val_accuracy: 0.0000e+00\n",
            "Epoch 49/100\n",
            "393/393 [==============================] - 3s 7ms/step - loss: 140964315136.0000 - accuracy: 0.0000e+00 - val_loss: 148663451648.0000 - val_accuracy: 0.0000e+00\n",
            "Epoch 50/100\n",
            "393/393 [==============================] - 4s 11ms/step - loss: 140462620672.0000 - accuracy: 0.0000e+00 - val_loss: 147465650176.0000 - val_accuracy: 0.0000e+00\n",
            "Epoch 51/100\n",
            "393/393 [==============================] - 3s 7ms/step - loss: 135174144000.0000 - accuracy: 0.0000e+00 - val_loss: 146509938688.0000 - val_accuracy: 0.0000e+00\n",
            "Epoch 52/100\n",
            "393/393 [==============================] - 3s 7ms/step - loss: 135265886208.0000 - accuracy: 0.0000e+00 - val_loss: 145338466304.0000 - val_accuracy: 0.0000e+00\n",
            "Epoch 53/100\n",
            "393/393 [==============================] - 3s 7ms/step - loss: 134693961728.0000 - accuracy: 0.0000e+00 - val_loss: 144546054144.0000 - val_accuracy: 0.0000e+00\n",
            "Epoch 54/100\n",
            "393/393 [==============================] - 4s 9ms/step - loss: 133129863168.0000 - accuracy: 0.0000e+00 - val_loss: 143702867968.0000 - val_accuracy: 0.0000e+00\n",
            "Epoch 55/100\n",
            "393/393 [==============================] - 4s 9ms/step - loss: 132629659648.0000 - accuracy: 0.0000e+00 - val_loss: 142491926528.0000 - val_accuracy: 0.0000e+00\n",
            "Epoch 56/100\n",
            "393/393 [==============================] - 3s 7ms/step - loss: 134437421056.0000 - accuracy: 0.0000e+00 - val_loss: 141532528640.0000 - val_accuracy: 0.0000e+00\n",
            "Epoch 57/100\n",
            "393/393 [==============================] - 3s 7ms/step - loss: 130305146880.0000 - accuracy: 0.0000e+00 - val_loss: 140561547264.0000 - val_accuracy: 0.0000e+00\n",
            "Epoch 58/100\n",
            "393/393 [==============================] - 3s 8ms/step - loss: 126377984000.0000 - accuracy: 0.0000e+00 - val_loss: 139342823424.0000 - val_accuracy: 0.0000e+00\n",
            "Epoch 59/100\n",
            "393/393 [==============================] - 4s 10ms/step - loss: 128768983040.0000 - accuracy: 0.0000e+00 - val_loss: 138686988288.0000 - val_accuracy: 0.0000e+00\n",
            "Epoch 60/100\n",
            "393/393 [==============================] - 3s 7ms/step - loss: 129826488320.0000 - accuracy: 0.0000e+00 - val_loss: 137582215168.0000 - val_accuracy: 0.0000e+00\n",
            "Epoch 61/100\n",
            "393/393 [==============================] - 3s 7ms/step - loss: 126555193344.0000 - accuracy: 0.0000e+00 - val_loss: 136561745920.0000 - val_accuracy: 0.0000e+00\n",
            "Epoch 62/100\n",
            "393/393 [==============================] - 3s 7ms/step - loss: 127558795264.0000 - accuracy: 0.0000e+00 - val_loss: 135551098880.0000 - val_accuracy: 0.0000e+00\n",
            "Epoch 63/100\n",
            "393/393 [==============================] - 4s 10ms/step - loss: 125711171584.0000 - accuracy: 0.0000e+00 - val_loss: 134589136896.0000 - val_accuracy: 0.0000e+00\n",
            "Epoch 64/100\n",
            "393/393 [==============================] - 3s 8ms/step - loss: 121966297088.0000 - accuracy: 0.0000e+00 - val_loss: 133748056064.0000 - val_accuracy: 0.0000e+00\n",
            "Epoch 65/100\n",
            "393/393 [==============================] - 3s 7ms/step - loss: 122343841792.0000 - accuracy: 0.0000e+00 - val_loss: 132640694272.0000 - val_accuracy: 0.0000e+00\n",
            "Epoch 66/100\n",
            "393/393 [==============================] - 3s 7ms/step - loss: 125057400832.0000 - accuracy: 0.0000e+00 - val_loss: 131866025984.0000 - val_accuracy: 0.0000e+00\n",
            "Epoch 67/100\n",
            "393/393 [==============================] - 3s 8ms/step - loss: 122812604416.0000 - accuracy: 0.0000e+00 - val_loss: 130881110016.0000 - val_accuracy: 0.0000e+00\n",
            "Epoch 68/100\n",
            "393/393 [==============================] - 4s 10ms/step - loss: 121231302656.0000 - accuracy: 0.0000e+00 - val_loss: 130223980544.0000 - val_accuracy: 0.0000e+00\n",
            "Epoch 69/100\n",
            "393/393 [==============================] - 3s 7ms/step - loss: 119777452032.0000 - accuracy: 0.0000e+00 - val_loss: 129284718592.0000 - val_accuracy: 0.0000e+00\n",
            "Epoch 70/100\n",
            "393/393 [==============================] - 3s 7ms/step - loss: 117541543936.0000 - accuracy: 0.0000e+00 - val_loss: 128529956864.0000 - val_accuracy: 0.0000e+00\n",
            "Epoch 71/100\n",
            "393/393 [==============================] - 3s 7ms/step - loss: 119543128064.0000 - accuracy: 0.0000e+00 - val_loss: 127896928256.0000 - val_accuracy: 0.0000e+00\n",
            "Epoch 72/100\n",
            "393/393 [==============================] - 4s 10ms/step - loss: 117837971456.0000 - accuracy: 0.0000e+00 - val_loss: 126966767616.0000 - val_accuracy: 0.0000e+00\n",
            "Epoch 73/100\n",
            "393/393 [==============================] - 4s 10ms/step - loss: 116781645824.0000 - accuracy: 0.0000e+00 - val_loss: 126067810304.0000 - val_accuracy: 0.0000e+00\n",
            "Epoch 74/100\n",
            "393/393 [==============================] - 3s 7ms/step - loss: 114597625856.0000 - accuracy: 0.0000e+00 - val_loss: 125406076928.0000 - val_accuracy: 0.0000e+00\n",
            "Epoch 75/100\n",
            "393/393 [==============================] - 3s 7ms/step - loss: 116036911104.0000 - accuracy: 0.0000e+00 - val_loss: 124938559488.0000 - val_accuracy: 0.0000e+00\n",
            "Epoch 76/100\n",
            "393/393 [==============================] - 4s 10ms/step - loss: 115555246080.0000 - accuracy: 0.0000e+00 - val_loss: 124346056704.0000 - val_accuracy: 0.0000e+00\n",
            "Epoch 77/100\n",
            "393/393 [==============================] - 3s 9ms/step - loss: 109588357120.0000 - accuracy: 0.0000e+00 - val_loss: 123477860352.0000 - val_accuracy: 0.0000e+00\n",
            "Epoch 78/100\n",
            "393/393 [==============================] - 3s 7ms/step - loss: 114348466176.0000 - accuracy: 0.0000e+00 - val_loss: 122904764416.0000 - val_accuracy: 0.0000e+00\n",
            "Epoch 79/100\n",
            "393/393 [==============================] - 3s 7ms/step - loss: 110504566784.0000 - accuracy: 0.0000e+00 - val_loss: 122276642816.0000 - val_accuracy: 0.0000e+00\n",
            "Epoch 80/100\n",
            "393/393 [==============================] - 3s 8ms/step - loss: 109994729472.0000 - accuracy: 0.0000e+00 - val_loss: 121486188544.0000 - val_accuracy: 0.0000e+00\n",
            "Epoch 81/100\n",
            "393/393 [==============================] - 4s 10ms/step - loss: 110064025600.0000 - accuracy: 0.0000e+00 - val_loss: 120882839552.0000 - val_accuracy: 0.0000e+00\n",
            "Epoch 82/100\n",
            "393/393 [==============================] - 3s 7ms/step - loss: 111404924928.0000 - accuracy: 0.0000e+00 - val_loss: 120509349888.0000 - val_accuracy: 0.0000e+00\n",
            "Epoch 83/100\n",
            "393/393 [==============================] - 3s 7ms/step - loss: 107798650880.0000 - accuracy: 0.0000e+00 - val_loss: 119760642048.0000 - val_accuracy: 0.0000e+00\n",
            "Epoch 84/100\n",
            "393/393 [==============================] - 3s 7ms/step - loss: 104136892416.0000 - accuracy: 0.0000e+00 - val_loss: 119008116736.0000 - val_accuracy: 0.0000e+00\n",
            "Epoch 85/100\n",
            "393/393 [==============================] - 6s 15ms/step - loss: 105197494272.0000 - accuracy: 0.0000e+00 - val_loss: 118600998912.0000 - val_accuracy: 0.0000e+00\n",
            "Epoch 86/100\n",
            "393/393 [==============================] - 5s 12ms/step - loss: 103868833792.0000 - accuracy: 0.0000e+00 - val_loss: 118020161536.0000 - val_accuracy: 0.0000e+00\n",
            "Epoch 87/100\n",
            "393/393 [==============================] - 4s 10ms/step - loss: 105720954880.0000 - accuracy: 0.0000e+00 - val_loss: 117450809344.0000 - val_accuracy: 0.0000e+00\n",
            "Epoch 88/100\n",
            "393/393 [==============================] - 6s 15ms/step - loss: 105404137472.0000 - accuracy: 0.0000e+00 - val_loss: 117064138752.0000 - val_accuracy: 0.0000e+00\n",
            "Epoch 89/100\n",
            "393/393 [==============================] - 4s 9ms/step - loss: 105083518976.0000 - accuracy: 0.0000e+00 - val_loss: 116564852736.0000 - val_accuracy: 0.0000e+00\n",
            "Epoch 90/100\n",
            "393/393 [==============================] - 4s 9ms/step - loss: 105546653696.0000 - accuracy: 0.0000e+00 - val_loss: 115927842816.0000 - val_accuracy: 0.0000e+00\n",
            "Epoch 91/100\n",
            "393/393 [==============================] - 6s 14ms/step - loss: 105510461440.0000 - accuracy: 0.0000e+00 - val_loss: 115478142976.0000 - val_accuracy: 0.0000e+00\n",
            "Epoch 92/100\n",
            "393/393 [==============================] - 3s 8ms/step - loss: 101871108096.0000 - accuracy: 0.0000e+00 - val_loss: 115256836096.0000 - val_accuracy: 0.0000e+00\n",
            "Epoch 93/100\n",
            "393/393 [==============================] - 3s 8ms/step - loss: 104935112704.0000 - accuracy: 0.0000e+00 - val_loss: 114857672704.0000 - val_accuracy: 0.0000e+00\n",
            "Epoch 94/100\n",
            "393/393 [==============================] - 3s 7ms/step - loss: 101358116864.0000 - accuracy: 0.0000e+00 - val_loss: 114105098240.0000 - val_accuracy: 0.0000e+00\n",
            "Epoch 95/100\n",
            "393/393 [==============================] - 3s 8ms/step - loss: 100260831232.0000 - accuracy: 0.0000e+00 - val_loss: 113660837888.0000 - val_accuracy: 0.0000e+00\n",
            "Epoch 96/100\n",
            "393/393 [==============================] - 4s 11ms/step - loss: 103687528448.0000 - accuracy: 0.0000e+00 - val_loss: 113401987072.0000 - val_accuracy: 0.0000e+00\n",
            "Epoch 97/100\n",
            "393/393 [==============================] - 3s 7ms/step - loss: 100693598208.0000 - accuracy: 0.0000e+00 - val_loss: 112745013248.0000 - val_accuracy: 0.0000e+00\n",
            "Epoch 98/100\n",
            "393/393 [==============================] - 3s 7ms/step - loss: 100183367680.0000 - accuracy: 0.0000e+00 - val_loss: 112341254144.0000 - val_accuracy: 0.0000e+00\n",
            "Epoch 99/100\n",
            "393/393 [==============================] - 3s 7ms/step - loss: 98173042688.0000 - accuracy: 0.0000e+00 - val_loss: 111841239040.0000 - val_accuracy: 0.0000e+00\n",
            "Epoch 100/100\n",
            "393/393 [==============================] - 4s 11ms/step - loss: 97552318464.0000 - accuracy: 0.0000e+00 - val_loss: 111420497920.0000 - val_accuracy: 0.0000e+00\n"
          ]
        }
      ],
      "source": [
        "model_ula = Sequential()\n",
        "model_ula.add(Dense(60, activation='relu', input_shape=(x_train.shape[1],)))\n",
        "model_ula.add(Dropout(0.3))\n",
        "model_ula.add(Dense(30, activation='relu'))\n",
        "model_ula.add(Dropout(0.3))\n",
        "model_ula.add(Dense(1, activation='linear'))\n",
        "# training\n",
        "model_ula.compile(optimizer='adam', loss='mse', metrics=['accuracy'])\n",
        "history = model_ula.fit(x_train, y_train, validation_split=0.2, batch_size=100, epochs=100)\n"
      ]
    },
    {
      "cell_type": "code",
      "source": [
        "y_pred = model_ula.predict(x_test)"
      ],
      "metadata": {
        "colab": {
          "base_uri": "https://localhost:8080/"
        },
        "id": "fLZ--lwtqSNE",
        "outputId": "2812a7e1-f718-4b41-9b44-87a6cbbefee4"
      },
      "execution_count": 49,
      "outputs": [
        {
          "output_type": "stream",
          "name": "stdout",
          "text": [
            "658/658 [==============================] - 1s 2ms/step\n"
          ]
        }
      ]
    },
    {
      "cell_type": "code",
      "source": [
        "plt.plot(history.history['loss'],\n",
        "         label='Ошибка на обучающем наборе')\n",
        "plt.plot(history.history['val_loss'],\n",
        "         label='Ошибка на проверочном наборе')\n",
        "plt.xlabel('Эпоха обучения')\n",
        "plt.ylabel('Ошибка')\n",
        "plt.legend()\n",
        "plt.show()"
      ],
      "metadata": {
        "colab": {
          "base_uri": "https://localhost:8080/",
          "height": 465
        },
        "id": "jOaYnadQqUZ1",
        "outputId": "4cf68c7f-a505-4184-c83c-cb4eb35e3e21"
      },
      "execution_count": 50,
      "outputs": [
        {
          "output_type": "display_data",
          "data": {
            "text/plain": [
              "<Figure size 640x480 with 1 Axes>"
            ],
            "image/png": "[encoded data removed]"
          },
          "metadata": {}
        }
      ]
    }
  ]
}