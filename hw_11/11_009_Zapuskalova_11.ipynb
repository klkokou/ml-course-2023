{
  "nbformat": 4,
  "nbformat_minor": 0,
  "metadata": {
    "colab": {
      "provenance": [],
      "authorship_tag": "ABX9TyM64k/jxNOALa93P9zH1tOz"
    },
    "kernelspec": {
      "name": "python3",
      "display_name": "Python 3"
    },
    "language_info": {
      "name": "python"
    }
  },
  "cells": [
    {
      "cell_type": "markdown",
      "metadata": {
        "id": "Sx9naxEGycrZ"
      },
      "source": [
        "# Предсказание цен машин с Юлы\n",
        "\n",
        "\n"
      ]
    },
    {
      "cell_type": "code",
      "execution_count": 1,
      "metadata": {
        "id": "qrfd6FzSLrE2"
      },
      "outputs": [],
      "source": [
        "from tensorflow.keras.models import Sequential\n",
        "from tensorflow.keras.layers import Dense, Activation, Dropout, BatchNormalization\n",
        "from tensorflow.keras import utils\n",
        "from tensorflow.keras.preprocessing import image\n",
        "from sklearn.model_selection import train_test_split\n",
        "from tensorflow.keras.optimizers import Adam, Adadelta # Алгоритмы оптимизации, для настройки скорости обучения\n",
        "import numpy as np # Библиотека работы с массивами\n",
        "import matplotlib.pyplot as plt\n",
        "import pandas as pd # Библиотека pandas\n",
        "from sklearn.preprocessing import LabelEncoder, StandardScaler # Функции для нормализации данных\n",
        "from sklearn import preprocessing\n"
      ]
    },
    {
      "cell_type": "code",
      "execution_count": 2,
      "metadata": {
        "colab": {
          "base_uri": "https://localhost:8080/",
          "height": 206
        },
        "id": "5v7Vz9VWynjF",
        "outputId": "ec24bdfd-500b-43b9-939a-13e57a5776b6"
      },
      "outputs": [
        {
          "output_type": "execute_result",
          "data": {
            "text/plain": [
              "        mark                               model   price  year  mileage  \\\n",
              "0        kia                              cerato  996000  2018    28000   \n",
              "1     daewoo  nexia 1 поколение [2-й рестайлинг]  140200  2012    60500   \n",
              "2     suzuki      jimny 3 поколение [рестайлинг]  750000  2011    29000   \n",
              "3        bmw              x1 18 e84 [рестайлинг]  970000  2014    49500   \n",
              "4  chevrolet                 lacetti 1 поколение  205000  2007   151445   \n",
              "\n",
              "          body       kpp    fuel  volume  power  \n",
              "0        седан   автомат  бензин     2.0  150.0  \n",
              "1        седан  механика  бензин     1.5   80.0  \n",
              "2  внедорожник   автомат  бензин     1.3   85.0  \n",
              "3    кроссовер   автомат  бензин     2.0  150.0  \n",
              "4        седан  механика  бензин     1.4   95.0  "
            ],
            "text/html": [
              "\n",
              "  <div id=\"df-5f9456fd-1d0a-45e7-9109-59abb0538077\" class=\"colab-df-container\">\n",
              "    <div>\n",
              "<style scoped>\n",
              "    .dataframe tbody tr th:only-of-type {\n",
              "        vertical-align: middle;\n",
              "    }\n",
              "\n",
              "    .dataframe tbody tr th {\n",
              "        vertical-align: top;\n",
              "    }\n",
              "\n",
              "    .dataframe thead th {\n",
              "        text-align: right;\n",
              "    }\n",
              "</style>\n",
              "<table border=\"1\" class=\"dataframe\">\n",
              "  <thead>\n",
              "    <tr style=\"text-align: right;\">\n",
              "      <th></th>\n",
              "      <th>mark</th>\n",
              "      <th>model</th>\n",
              "      <th>price</th>\n",
              "      <th>year</th>\n",
              "      <th>mileage</th>\n",
              "      <th>body</th>\n",
              "      <th>kpp</th>\n",
              "      <th>fuel</th>\n",
              "      <th>volume</th>\n",
              "      <th>power</th>\n",
              "    </tr>\n",
              "  </thead>\n",
              "  <tbody>\n",
              "    <tr>\n",
              "      <th>0</th>\n",
              "      <td>kia</td>\n",
              "      <td>cerato</td>\n",
              "      <td>996000</td>\n",
              "      <td>2018</td>\n",
              "      <td>28000</td>\n",
              "      <td>седан</td>\n",
              "      <td>автомат</td>\n",
              "      <td>бензин</td>\n",
              "      <td>2.0</td>\n",
              "      <td>150.0</td>\n",
              "    </tr>\n",
              "    <tr>\n",
              "      <th>1</th>\n",
              "      <td>daewoo</td>\n",
              "      <td>nexia 1 поколение [2-й рестайлинг]</td>\n",
              "      <td>140200</td>\n",
              "      <td>2012</td>\n",
              "      <td>60500</td>\n",
              "      <td>седан</td>\n",
              "      <td>механика</td>\n",
              "      <td>бензин</td>\n",
              "      <td>1.5</td>\n",
              "      <td>80.0</td>\n",
              "    </tr>\n",
              "    <tr>\n",
              "      <th>2</th>\n",
              "      <td>suzuki</td>\n",
              "      <td>jimny 3 поколение [рестайлинг]</td>\n",
              "      <td>750000</td>\n",
              "      <td>2011</td>\n",
              "      <td>29000</td>\n",
              "      <td>внедорожник</td>\n",
              "      <td>автомат</td>\n",
              "      <td>бензин</td>\n",
              "      <td>1.3</td>\n",
              "      <td>85.0</td>\n",
              "    </tr>\n",
              "    <tr>\n",
              "      <th>3</th>\n",
              "      <td>bmw</td>\n",
              "      <td>x1 18 e84 [рестайлинг]</td>\n",
              "      <td>970000</td>\n",
              "      <td>2014</td>\n",
              "      <td>49500</td>\n",
              "      <td>кроссовер</td>\n",
              "      <td>автомат</td>\n",
              "      <td>бензин</td>\n",
              "      <td>2.0</td>\n",
              "      <td>150.0</td>\n",
              "    </tr>\n",
              "    <tr>\n",
              "      <th>4</th>\n",
              "      <td>chevrolet</td>\n",
              "      <td>lacetti 1 поколение</td>\n",
              "      <td>205000</td>\n",
              "      <td>2007</td>\n",
              "      <td>151445</td>\n",
              "      <td>седан</td>\n",
              "      <td>механика</td>\n",
              "      <td>бензин</td>\n",
              "      <td>1.4</td>\n",
              "      <td>95.0</td>\n",
              "    </tr>\n",
              "  </tbody>\n",
              "</table>\n",
              "</div>\n",
              "    <div class=\"colab-df-buttons\">\n",
              "\n",
              "  <div class=\"colab-df-container\">\n",
              "    <button class=\"colab-df-convert\" onclick=\"convertToInteractive('df-5f9456fd-1d0a-45e7-9109-59abb0538077')\"\n",
              "            title=\"Convert this dataframe to an interactive table.\"\n",
              "            style=\"display:none;\">\n",
              "\n",
              "  <svg xmlns=\"http://www.w3.org/2000/svg\" height=\"24px\" viewBox=\"0 -960 960 960\">\n",
              "    <path d=\"M120-120v-720h720v720H120Zm60-500h600v-160H180v160Zm220 220h160v-160H400v160Zm0 220h160v-160H400v160ZM180-400h160v-160H180v160Zm440 0h160v-160H620v160ZM180-180h160v-160H180v160Zm440 0h160v-160H620v160Z\"/>\n",
              "  </svg>\n",
              "    </button>\n",
              "\n",
              "  <style>\n",
              "    .colab-df-container {\n",
              "      display:flex;\n",
              "      gap: 12px;\n",
              "    }\n",
              "\n",
              "    .colab-df-convert {\n",
              "      background-color: #E8F0FE;\n",
              "      border: none;\n",
              "      border-radius: 50%;\n",
              "      cursor: pointer;\n",
              "      display: none;\n",
              "      fill: #1967D2;\n",
              "      height: 32px;\n",
              "      padding: 0 0 0 0;\n",
              "      width: 32px;\n",
              "    }\n",
              "\n",
              "    .colab-df-convert:hover {\n",
              "      background-color: #E2EBFA;\n",
              "      box-shadow: 0px 1px 2px rgba(60, 64, 67, 0.3), 0px 1px 3px 1px rgba(60, 64, 67, 0.15);\n",
              "      fill: #174EA6;\n",
              "    }\n",
              "\n",
              "    .colab-df-buttons div {\n",
              "      margin-bottom: 4px;\n",
              "    }\n",
              "\n",
              "    [theme=dark] .colab-df-convert {\n",
              "      background-color: #3B4455;\n",
              "      fill: #D2E3FC;\n",
              "    }\n",
              "\n",
              "    [theme=dark] .colab-df-convert:hover {\n",
              "      background-color: #434B5C;\n",
              "      box-shadow: 0px 1px 3px 1px rgba(0, 0, 0, 0.15);\n",
              "      filter: drop-shadow(0px 1px 2px rgba(0, 0, 0, 0.3));\n",
              "      fill: #FFFFFF;\n",
              "    }\n",
              "  </style>\n",
              "\n",
              "    <script>\n",
              "      const buttonEl =\n",
              "        document.querySelector('#df-5f9456fd-1d0a-45e7-9109-59abb0538077 button.colab-df-convert');\n",
              "      buttonEl.style.display =\n",
              "        google.colab.kernel.accessAllowed ? 'block' : 'none';\n",
              "\n",
              "      async function convertToInteractive(key) {\n",
              "        const element = document.querySelector('#df-5f9456fd-1d0a-45e7-9109-59abb0538077');\n",
              "        const dataTable =\n",
              "          await google.colab.kernel.invokeFunction('convertToInteractive',\n",
              "                                                    [key], {});\n",
              "        if (!dataTable) return;\n",
              "\n",
              "        const docLinkHtml = 'Like what you see? Visit the ' +\n",
              "          '<a target=\"_blank\" href=https://colab.research.google.com/notebooks/data_table.ipynb>data table notebook</a>'\n",
              "          + ' to learn more about interactive tables.';\n",
              "        element.innerHTML = '';\n",
              "        dataTable['output_type'] = 'display_data';\n",
              "        await google.colab.output.renderOutput(dataTable, element);\n",
              "        const docLink = document.createElement('div');\n",
              "        docLink.innerHTML = docLinkHtml;\n",
              "        element.appendChild(docLink);\n",
              "      }\n",
              "    </script>\n",
              "  </div>\n",
              "\n",
              "\n",
              "<div id=\"df-90e38ac5-e4a0-4ea8-9844-13a0ea71ab1d\">\n",
              "  <button class=\"colab-df-quickchart\" onclick=\"quickchart('df-90e38ac5-e4a0-4ea8-9844-13a0ea71ab1d')\"\n",
              "            title=\"Suggest charts\"\n",
              "            style=\"display:none;\">\n",
              "\n",
              "<svg xmlns=\"http://www.w3.org/2000/svg\" height=\"24px\"viewBox=\"0 0 24 24\"\n",
              "     width=\"24px\">\n",
              "    <g>\n",
              "        <path d=\"M19 3H5c-1.1 0-2 .9-2 2v14c0 1.1.9 2 2 2h14c1.1 0 2-.9 2-2V5c0-1.1-.9-2-2-2zM9 17H7v-7h2v7zm4 0h-2V7h2v10zm4 0h-2v-4h2v4z\"/>\n",
              "    </g>\n",
              "</svg>\n",
              "  </button>\n",
              "\n",
              "<style>\n",
              "  .colab-df-quickchart {\n",
              "      --bg-color: #E8F0FE;\n",
              "      --fill-color: #1967D2;\n",
              "      --hover-bg-color: #E2EBFA;\n",
              "      --hover-fill-color: #174EA6;\n",
              "      --disabled-fill-color: #AAA;\n",
              "      --disabled-bg-color: #DDD;\n",
              "  }\n",
              "\n",
              "  [theme=dark] .colab-df-quickchart {\n",
              "      --bg-color: #3B4455;\n",
              "      --fill-color: #D2E3FC;\n",
              "      --hover-bg-color: #434B5C;\n",
              "      --hover-fill-color: #FFFFFF;\n",
              "      --disabled-bg-color: #3B4455;\n",
              "      --disabled-fill-color: #666;\n",
              "  }\n",
              "\n",
              "  .colab-df-quickchart {\n",
              "    background-color: var(--bg-color);\n",
              "    border: none;\n",
              "    border-radius: 50%;\n",
              "    cursor: pointer;\n",
              "    display: none;\n",
              "    fill: var(--fill-color);\n",
              "    height: 32px;\n",
              "    padding: 0;\n",
              "    width: 32px;\n",
              "  }\n",
              "\n",
              "  .colab-df-quickchart:hover {\n",
              "    background-color: var(--hover-bg-color);\n",
              "    box-shadow: 0 1px 2px rgba(60, 64, 67, 0.3), 0 1px 3px 1px rgba(60, 64, 67, 0.15);\n",
              "    fill: var(--button-hover-fill-color);\n",
              "  }\n",
              "\n",
              "  .colab-df-quickchart-complete:disabled,\n",
              "  .colab-df-quickchart-complete:disabled:hover {\n",
              "    background-color: var(--disabled-bg-color);\n",
              "    fill: var(--disabled-fill-color);\n",
              "    box-shadow: none;\n",
              "  }\n",
              "\n",
              "  .colab-df-spinner {\n",
              "    border: 2px solid var(--fill-color);\n",
              "    border-color: transparent;\n",
              "    border-bottom-color: var(--fill-color);\n",
              "    animation:\n",
              "      spin 1s steps(1) infinite;\n",
              "  }\n",
              "\n",
              "  @keyframes spin {\n",
              "    0% {\n",
              "      border-color: transparent;\n",
              "      border-bottom-color: var(--fill-color);\n",
              "      border-left-color: var(--fill-color);\n",
              "    }\n",
              "    20% {\n",
              "      border-color: transparent;\n",
              "      border-left-color: var(--fill-color);\n",
              "      border-top-color: var(--fill-color);\n",
              "    }\n",
              "    30% {\n",
              "      border-color: transparent;\n",
              "      border-left-color: var(--fill-color);\n",
              "      border-top-color: var(--fill-color);\n",
              "      border-right-color: var(--fill-color);\n",
              "    }\n",
              "    40% {\n",
              "      border-color: transparent;\n",
              "      border-right-color: var(--fill-color);\n",
              "      border-top-color: var(--fill-color);\n",
              "    }\n",
              "    60% {\n",
              "      border-color: transparent;\n",
              "      border-right-color: var(--fill-color);\n",
              "    }\n",
              "    80% {\n",
              "      border-color: transparent;\n",
              "      border-right-color: var(--fill-color);\n",
              "      border-bottom-color: var(--fill-color);\n",
              "    }\n",
              "    90% {\n",
              "      border-color: transparent;\n",
              "      border-bottom-color: var(--fill-color);\n",
              "    }\n",
              "  }\n",
              "</style>\n",
              "\n",
              "  <script>\n",
              "    async function quickchart(key) {\n",
              "      const quickchartButtonEl =\n",
              "        document.querySelector('#' + key + ' button');\n",
              "      quickchartButtonEl.disabled = true;  // To prevent multiple clicks.\n",
              "      quickchartButtonEl.classList.add('colab-df-spinner');\n",
              "      try {\n",
              "        const charts = await google.colab.kernel.invokeFunction(\n",
              "            'suggestCharts', [key], {});\n",
              "      } catch (error) {\n",
              "        console.error('Error during call to suggestCharts:', error);\n",
              "      }\n",
              "      quickchartButtonEl.classList.remove('colab-df-spinner');\n",
              "      quickchartButtonEl.classList.add('colab-df-quickchart-complete');\n",
              "    }\n",
              "    (() => {\n",
              "      let quickchartButtonEl =\n",
              "        document.querySelector('#df-90e38ac5-e4a0-4ea8-9844-13a0ea71ab1d button');\n",
              "      quickchartButtonEl.style.display =\n",
              "        google.colab.kernel.accessAllowed ? 'block' : 'none';\n",
              "    })();\n",
              "  </script>\n",
              "</div>\n",
              "    </div>\n",
              "  </div>\n"
            ]
          },
          "metadata": {},
          "execution_count": 2
        }
      ],
      "source": [
        "cars = pd.read_csv('cars_new.csv', sep=',')\n",
        "cars[:5]"
      ]
    },
    {
      "cell_type": "code",
      "execution_count": 3,
      "metadata": {
        "colab": {
          "base_uri": "https://localhost:8080/"
        },
        "id": "-2014jPoywVZ",
        "outputId": "4ea1f9d0-8edd-4123-b555-148243965ea6"
      },
      "outputs": [
        {
          "output_type": "stream",
          "name": "stdout",
          "text": [
            "(70119, 10)\n"
          ]
        }
      ],
      "source": [
        "print(cars.values.shape)"
      ]
    },
    {
      "cell_type": "code",
      "execution_count": 4,
      "metadata": {
        "id": "w_3Pk5XeyxsT"
      },
      "outputs": [],
      "source": [
        "# Создаём словарь поле - его индекс\n",
        "def create_dict(s):\n",
        "  ret = {}                          # Создаём пустой словарь\n",
        "  for _id, name in enumerate(s):    # Проходим по всем парам - id и название\n",
        "    ret.update({name: _id})         # Добавляем в словарь\n",
        "  return ret\n",
        "\n",
        "# Функция преобразования в one hot encoding\n",
        "def to_ohe(value, d):\n",
        "  arr = [0] * len(d)\n",
        "  arr[d[value]] = 1\n",
        "  return arr"
      ]
    },
    {
      "cell_type": "code",
      "execution_count": 5,
      "metadata": {
        "id": "bUyCBzyYyz8s",
        "colab": {
          "base_uri": "https://localhost:8080/"
        },
        "outputId": "a0e80908-ccd3-4b32-e61a-7b51a16928bd"
      },
      "outputs": [
        {
          "output_type": "stream",
          "name": "stderr",
          "text": [
            "<ipython-input-5-006031011196>:9: DeprecationWarning: `np.float` is a deprecated alias for the builtin `float`. To silence this warning, use `float` by itself. Doing this will not modify any behavior and is safe. If you specifically wanted the numpy scalar type, use `np.float64` here.\n",
            "Deprecated in NumPy 1.20; for more details and guidance: https://numpy.org/devdocs/release/1.20.0-notes.html#deprecations\n",
            "  prices = np.array(cars['price'], dtype=np.float)\n"
          ]
        }
      ],
      "source": [
        "# Создаём словари по всем текстовым колонкам\n",
        "marks_dict = create_dict(set(cars['mark']))\n",
        "models_dict = create_dict(set(cars['model']))\n",
        "bodies_dict = create_dict(set(cars['body']))\n",
        "kpps_dict = create_dict(set(cars['kpp']))\n",
        "fuels_dict = create_dict(set(cars['fuel']))\n",
        "\n",
        "# Запоминаем цены\n",
        "prices = np.array(cars['price'], dtype=np.float)\n",
        "\n",
        "# Запоминаем числовые параметры\n",
        "# и нормируем\n",
        "years = preprocessing.scale(cars['year'])\n",
        "mileages = preprocessing.scale(cars['mileage'])\n",
        "volumes = preprocessing.scale(cars['volume'])\n",
        "powers = preprocessing.scale(cars['power'])"
      ]
    },
    {
      "cell_type": "code",
      "execution_count": 6,
      "metadata": {
        "colab": {
          "base_uri": "https://localhost:8080/"
        },
        "id": "E_W73oeey1TF",
        "outputId": "8fe40983-d7d9-4628-b418-4b9f21818fe4"
      },
      "outputs": [
        {
          "output_type": "stream",
          "name": "stdout",
          "text": [
            "{'электро': 0, 'газ': 1, 'гибрид': 2, 'дизель': 3, 'бензин': 4}\n"
          ]
        }
      ],
      "source": [
        "print(fuels_dict)"
      ]
    },
    {
      "cell_type": "code",
      "execution_count": 7,
      "metadata": {
        "colab": {
          "base_uri": "https://localhost:8080/"
        },
        "id": "ZnAwYOCmLbQc",
        "outputId": "d9229a6b-a125-4113-b944-91566f50174f"
      },
      "outputs": [
        {
          "output_type": "execute_result",
          "data": {
            "text/plain": [
              "1.2879530757014324e-16"
            ]
          },
          "metadata": {},
          "execution_count": 7
        }
      ],
      "source": [
        "volumes.mean()"
      ]
    },
    {
      "cell_type": "code",
      "execution_count": 8,
      "metadata": {
        "colab": {
          "base_uri": "https://localhost:8080/"
        },
        "id": "_PJLhc-HLdDI",
        "outputId": "a69f0c24-1469-41ea-ce3e-271b29c1ac84"
      },
      "outputs": [
        {
          "output_type": "execute_result",
          "data": {
            "text/plain": [
              "1.0"
            ]
          },
          "metadata": {},
          "execution_count": 8
        }
      ],
      "source": [
        "volumes.std()"
      ]
    },
    {
      "cell_type": "code",
      "execution_count": 9,
      "metadata": {
        "colab": {
          "base_uri": "https://localhost:8080/"
        },
        "id": "jHEPEcKfy4MV",
        "outputId": "1400cafc-a878-463c-b8b2-f4380aedba5d"
      },
      "outputs": [
        {
          "output_type": "stream",
          "name": "stdout",
          "text": [
            "[ 0.22905575 -0.95630346 -0.87163494 ...  0.22905575 -0.75309902\n",
            "  2.34576862]\n"
          ]
        }
      ],
      "source": [
        "print(powers)"
      ]
    },
    {
      "cell_type": "code",
      "execution_count": 10,
      "metadata": {
        "id": "fq_m4WUny4k3",
        "colab": {
          "base_uri": "https://localhost:8080/"
        },
        "outputId": "27d8f4ef-74e5-4156-cc93-c3fc72e800a1"
      },
      "outputs": [
        {
          "output_type": "stream",
          "name": "stderr",
          "text": [
            "<ipython-input-10-b2ecf943cd42>:27: DeprecationWarning: `np.float` is a deprecated alias for the builtin `float`. To silence this warning, use `float` by itself. Doing this will not modify any behavior and is safe. If you specifically wanted the numpy scalar type, use `np.float64` here.\n",
            "Deprecated in NumPy 1.20; for more details and guidance: https://numpy.org/devdocs/release/1.20.0-notes.html#deprecations\n",
            "  x = np.array(x, dtype=np.float)\n",
            "<ipython-input-10-b2ecf943cd42>:28: DeprecationWarning: `np.float` is a deprecated alias for the builtin `float`. To silence this warning, use `float` by itself. Doing this will not modify any behavior and is safe. If you specifically wanted the numpy scalar type, use `np.float64` here.\n",
            "Deprecated in NumPy 1.20; for more details and guidance: https://numpy.org/devdocs/release/1.20.0-notes.html#deprecations\n",
            "  y = np.array(y, dtype=np.float)\n"
          ]
        }
      ],
      "source": [
        "# Создаём пустую обучающую выборку\n",
        "x = []\n",
        "y = []\n",
        "\n",
        "# Проходам по всем машинам\n",
        "for _id, car in enumerate(np.array(cars)):\n",
        "  # В y_train добавляем цену\n",
        "  y.append(prices[_id])\n",
        "  x_tr = to_ohe(car[0], marks_dict) + \\\n",
        "        to_ohe(car[1], models_dict) + \\\n",
        "        to_ohe(car[5], bodies_dict) + \\\n",
        "        to_ohe(car[6], kpps_dict) + \\\n",
        "        to_ohe(car[7], fuels_dict) + \\\n",
        "        [years[_id]] + \\\n",
        "        [mileages[_id]] + \\\n",
        "        [volumes[_id]] + \\\n",
        "        [powers[_id]]\n",
        "\n",
        "  # Добавляем текущую строку в общий x_train\n",
        "  x.append(x_tr)\n",
        "\n",
        "# Превращаем лист в numpy.array\n",
        "x = np.array(x, dtype=np.float)\n",
        "y = np.array(y, dtype=np.float)"
      ]
    },
    {
      "cell_type": "code",
      "execution_count": 11,
      "metadata": {
        "colab": {
          "base_uri": "https://localhost:8080/"
        },
        "id": "S2IuqIWPy-nr",
        "outputId": "824b5e93-8f5e-4c29-fde6-9678da09f258"
      },
      "outputs": [
        {
          "output_type": "stream",
          "name": "stdout",
          "text": [
            "(70119, 3208)\n",
            "(70119,)\n"
          ]
        }
      ],
      "source": [
        "# Выводим размеры выборок\n",
        "print(x.shape)\n",
        "print(y.shape)"
      ]
    },
    {
      "cell_type": "code",
      "execution_count": 12,
      "metadata": {
        "colab": {
          "base_uri": "https://localhost:8080/"
        },
        "id": "tyNIVawgzDX6",
        "outputId": "0b5c0566-1d6d-4b40-8ed0-31b0c43513a7"
      },
      "outputs": [
        {
          "output_type": "stream",
          "name": "stdout",
          "text": [
            "[0. 0. 0. 0. 0. 0. 0. 1. 0. 0. 0. 0. 0. 0. 0. 0. 0. 0. 0. 0.]\n",
            "[ 0.          0.          0.          0.          0.          0.\n",
            "  1.          0.          0.          0.          0.          0.\n",
            "  0.          0.          0.          1.          1.5200145  -1.40018212\n",
            "  0.12288486  0.22905575]\n"
          ]
        }
      ],
      "source": [
        "# Выводим один x_train\n",
        "print(x[0,:20])\n",
        "print(x[0,-20:])"
      ]
    },
    {
      "cell_type": "code",
      "execution_count": 13,
      "metadata": {
        "colab": {
          "base_uri": "https://localhost:8080/"
        },
        "id": "E06CfFFtzE4b",
        "outputId": "c75dcec9-ee5b-4ea7-86f6-f2b24b28473d"
      },
      "outputs": [
        {
          "output_type": "stream",
          "name": "stdout",
          "text": [
            "[ 996000.  140200.  750000.  970000.  205000.  985000.  589000.  500000.\n",
            " 1320000.  270000.]\n"
          ]
        }
      ],
      "source": [
        "# Выводим y_train\n",
        "print(y[:10])"
      ]
    },
    {
      "cell_type": "code",
      "execution_count": 14,
      "metadata": {
        "colab": {
          "base_uri": "https://localhost:8080/"
        },
        "id": "60HjttMmeB6C",
        "outputId": "47da7711-1761-4e2b-f0b1-a7422e8e5823"
      },
      "outputs": [
        {
          "output_type": "execute_result",
          "data": {
            "text/plain": [
              "(70119,)"
            ]
          },
          "metadata": {},
          "execution_count": 14
        }
      ],
      "source": [
        "y.shape"
      ]
    },
    {
      "cell_type": "code",
      "execution_count": 15,
      "metadata": {
        "colab": {
          "base_uri": "https://localhost:8080/"
        },
        "id": "Fyt6sUeueKfA",
        "outputId": "5005fd09-511f-4c46-9c81-ac7122e99ece"
      },
      "outputs": [
        {
          "output_type": "execute_result",
          "data": {
            "text/plain": [
              "(70119, 1)"
            ]
          },
          "metadata": {},
          "execution_count": 15
        }
      ],
      "source": [
        "y.reshape(-1,1).shape"
      ]
    },
    {
      "cell_type": "code",
      "execution_count": 16,
      "metadata": {
        "id": "tetSCI-BzITK"
      },
      "outputs": [],
      "source": [
        "# Нормализуем y_train\n",
        "y_scaler = StandardScaler()\n",
        "y_train_scaled = y_scaler.fit_transform(y.reshape(-1,1)).flatten()\n"
      ]
    },
    {
      "cell_type": "code",
      "execution_count": 17,
      "metadata": {
        "colab": {
          "base_uri": "https://localhost:8080/"
        },
        "id": "n3hq9mYkOEGK",
        "outputId": "8c25e620-960d-473f-ec6c-ecd4ae2c3e74"
      },
      "outputs": [
        {
          "output_type": "execute_result",
          "data": {
            "text/plain": [
              "(70119,)"
            ]
          },
          "metadata": {},
          "execution_count": 17
        }
      ],
      "source": [
        "y.shape"
      ]
    },
    {
      "cell_type": "code",
      "execution_count": 18,
      "metadata": {
        "colab": {
          "base_uri": "https://localhost:8080/"
        },
        "id": "v2k03NYbzI6q",
        "outputId": "e1f84af0-c611-465b-aa7d-9b0052a1b70b"
      },
      "outputs": [
        {
          "output_type": "stream",
          "name": "stdout",
          "text": [
            "[ 996000.  140200.  750000.  970000.  205000.  985000.  589000.  500000.\n",
            " 1320000.  270000.]\n",
            "[ 0.75082432 -0.62135434  0.3563911   0.70913625 -0.51745486  0.73318706\n",
            "  0.09824578 -0.04445567  1.27032173 -0.4132347 ]\n"
          ]
        }
      ],
      "source": [
        "# Выводим базовый и нормированный y_train\n",
        "print(y[:10])\n",
        "print(y_train_scaled[:10])"
      ]
    },
    {
      "cell_type": "code",
      "execution_count": 19,
      "metadata": {
        "id": "qOmiU2IdepZn"
      },
      "outputs": [],
      "source": [
        "x_train, x_test, y_train, y_test = train_test_split(x, y, train_size=0.7, random_state=42, shuffle=True)"
      ]
    },
    {
      "cell_type": "code",
      "execution_count": 26,
      "metadata": {
        "id": "nRhXUb0TCbUp",
        "colab": {
          "base_uri": "https://localhost:8080/"
        },
        "outputId": "768c47a5-12dd-41e5-80da-e0bcdc64ab99"
      },
      "outputs": [
        {
          "output_type": "stream",
          "name": "stdout",
          "text": [
            "Epoch 1/100\n",
            "786/786 [==============================] - 10s 12ms/step - loss: 518346.2188 - r2_score: -0.7158 - val_loss: 483871.2812 - val_r2_score: -0.5692\n",
            "Epoch 2/100\n",
            "786/786 [==============================] - 7s 9ms/step - loss: 405435.3750 - r2_score: -0.3888 - val_loss: 310204.3750 - val_r2_score: -0.0779\n",
            "Epoch 3/100\n",
            "786/786 [==============================] - 9s 11ms/step - loss: 253306.9219 - r2_score: 0.1319 - val_loss: 207330.3750 - val_r2_score: 0.2767\n",
            "Epoch 4/100\n",
            "786/786 [==============================] - 7s 9ms/step - loss: 198779.7812 - r2_score: 0.3565 - val_loss: 177634.9688 - val_r2_score: 0.3929\n",
            "Epoch 5/100\n",
            "786/786 [==============================] - 9s 11ms/step - loss: 182548.7812 - r2_score: 0.4303 - val_loss: 167020.2656 - val_r2_score: 0.4366\n",
            "Epoch 6/100\n",
            "786/786 [==============================] - 7s 9ms/step - loss: 174991.3906 - r2_score: 0.4643 - val_loss: 160300.8750 - val_r2_score: 0.4572\n",
            "Epoch 7/100\n",
            "786/786 [==============================] - 9s 11ms/step - loss: 169127.2969 - r2_score: 0.4800 - val_loss: 153653.2344 - val_r2_score: 0.4763\n",
            "Epoch 8/100\n",
            "786/786 [==============================] - 7s 9ms/step - loss: 163061.0000 - r2_score: 0.4986 - val_loss: 146940.5000 - val_r2_score: 0.4881\n",
            "Epoch 9/100\n",
            "786/786 [==============================] - 9s 11ms/step - loss: 156992.9844 - r2_score: 0.5140 - val_loss: 140585.9062 - val_r2_score: 0.5007\n",
            "Epoch 10/100\n",
            "786/786 [==============================] - 8s 10ms/step - loss: 151850.1719 - r2_score: 0.5248 - val_loss: 135335.7344 - val_r2_score: 0.5172\n",
            "Epoch 11/100\n",
            "786/786 [==============================] - 8s 10ms/step - loss: 147409.7188 - r2_score: 0.5454 - val_loss: 130946.0703 - val_r2_score: 0.5317\n",
            "Epoch 12/100\n",
            "786/786 [==============================] - 8s 10ms/step - loss: 143885.3906 - r2_score: 0.5594 - val_loss: 127327.0234 - val_r2_score: 0.5436\n",
            "Epoch 13/100\n",
            "786/786 [==============================] - 8s 10ms/step - loss: 140357.2656 - r2_score: 0.5727 - val_loss: 124012.7969 - val_r2_score: 0.5563\n",
            "Epoch 14/100\n",
            "786/786 [==============================] - 9s 12ms/step - loss: 137839.0625 - r2_score: 0.5878 - val_loss: 121142.3594 - val_r2_score: 0.5667\n",
            "Epoch 15/100\n",
            "786/786 [==============================] - 8s 10ms/step - loss: 135329.2344 - r2_score: 0.5984 - val_loss: 118688.8984 - val_r2_score: 0.5753\n",
            "Epoch 16/100\n",
            "786/786 [==============================] - 9s 11ms/step - loss: 133989.4219 - r2_score: 0.6070 - val_loss: 116461.9922 - val_r2_score: 0.5838\n",
            "Epoch 17/100\n",
            "786/786 [==============================] - 7s 9ms/step - loss: 131558.3594 - r2_score: 0.6158 - val_loss: 114537.6250 - val_r2_score: 0.5895\n",
            "Epoch 18/100\n",
            "786/786 [==============================] - 9s 12ms/step - loss: 129077.5625 - r2_score: 0.6265 - val_loss: 112164.7578 - val_r2_score: 0.6001\n",
            "Epoch 19/100\n",
            "786/786 [==============================] - 9s 11ms/step - loss: 127441.7656 - r2_score: 0.6359 - val_loss: 110249.3594 - val_r2_score: 0.6098\n",
            "Epoch 20/100\n",
            "786/786 [==============================] - 7s 9ms/step - loss: 125894.0781 - r2_score: 0.6386 - val_loss: 108582.8047 - val_r2_score: 0.6157\n",
            "Epoch 21/100\n",
            "786/786 [==============================] - 10s 13ms/step - loss: 124978.8047 - r2_score: 0.6522 - val_loss: 107224.1250 - val_r2_score: 0.6198\n",
            "Epoch 22/100\n",
            "786/786 [==============================] - 8s 10ms/step - loss: 122380.1953 - r2_score: 0.6601 - val_loss: 105678.9453 - val_r2_score: 0.6270\n",
            "Epoch 23/100\n",
            "786/786 [==============================] - 9s 12ms/step - loss: 121972.3203 - r2_score: 0.6606 - val_loss: 104205.1719 - val_r2_score: 0.6327\n",
            "Epoch 24/100\n",
            "786/786 [==============================] - 8s 10ms/step - loss: 120184.7812 - r2_score: 0.6698 - val_loss: 103217.2891 - val_r2_score: 0.6365\n",
            "Epoch 25/100\n",
            "786/786 [==============================] - 8s 11ms/step - loss: 118925.9297 - r2_score: 0.6724 - val_loss: 101999.5547 - val_r2_score: 0.6412\n",
            "Epoch 26/100\n",
            "786/786 [==============================] - 9s 11ms/step - loss: 117946.3047 - r2_score: 0.6789 - val_loss: 100913.7109 - val_r2_score: 0.6461\n",
            "Epoch 27/100\n",
            "786/786 [==============================] - 7s 9ms/step - loss: 117297.1953 - r2_score: 0.6847 - val_loss: 99780.3828 - val_r2_score: 0.6525\n",
            "Epoch 28/100\n",
            "786/786 [==============================] - 10s 13ms/step - loss: 116050.0312 - r2_score: 0.6898 - val_loss: 98812.5938 - val_r2_score: 0.6556\n",
            "Epoch 29/100\n",
            "786/786 [==============================] - 7s 9ms/step - loss: 115181.7578 - r2_score: 0.6924 - val_loss: 98162.1328 - val_r2_score: 0.6572\n",
            "Epoch 30/100\n",
            "786/786 [==============================] - 9s 11ms/step - loss: 114606.8047 - r2_score: 0.6954 - val_loss: 97162.7344 - val_r2_score: 0.6613\n",
            "Epoch 31/100\n",
            "786/786 [==============================] - 7s 9ms/step - loss: 112877.6172 - r2_score: 0.7016 - val_loss: 96294.6406 - val_r2_score: 0.6656\n",
            "Epoch 32/100\n",
            "786/786 [==============================] - 9s 11ms/step - loss: 112940.1484 - r2_score: 0.7054 - val_loss: 95428.3672 - val_r2_score: 0.6701\n",
            "Epoch 33/100\n",
            "786/786 [==============================] - 8s 10ms/step - loss: 112462.1016 - r2_score: 0.7083 - val_loss: 94881.0703 - val_r2_score: 0.6721\n",
            "Epoch 34/100\n",
            "786/786 [==============================] - 8s 10ms/step - loss: 111838.1016 - r2_score: 0.7156 - val_loss: 93851.6250 - val_r2_score: 0.6779\n",
            "Epoch 35/100\n",
            "786/786 [==============================] - 9s 11ms/step - loss: 110866.3203 - r2_score: 0.7170 - val_loss: 93333.9141 - val_r2_score: 0.6802\n",
            "Epoch 36/100\n",
            "786/786 [==============================] - 7s 9ms/step - loss: 110529.0312 - r2_score: 0.7231 - val_loss: 92805.1719 - val_r2_score: 0.6824\n",
            "Epoch 37/100\n",
            "786/786 [==============================] - 9s 11ms/step - loss: 109190.9844 - r2_score: 0.7286 - val_loss: 92574.4453 - val_r2_score: 0.6844\n",
            "Epoch 38/100\n",
            "786/786 [==============================] - 7s 9ms/step - loss: 108336.0547 - r2_score: 0.7284 - val_loss: 91311.0469 - val_r2_score: 0.6914\n",
            "Epoch 39/100\n",
            "786/786 [==============================] - 9s 12ms/step - loss: 108332.8516 - r2_score: 0.7296 - val_loss: 91110.1641 - val_r2_score: 0.6917\n",
            "Epoch 40/100\n",
            "786/786 [==============================] - 7s 9ms/step - loss: 107126.8047 - r2_score: 0.7375 - val_loss: 90700.3438 - val_r2_score: 0.6942\n",
            "Epoch 41/100\n",
            "786/786 [==============================] - 9s 11ms/step - loss: 107271.5703 - r2_score: 0.7359 - val_loss: 90324.1641 - val_r2_score: 0.6967\n",
            "Epoch 42/100\n",
            "786/786 [==============================] - 8s 10ms/step - loss: 106429.9844 - r2_score: 0.7425 - val_loss: 89561.5781 - val_r2_score: 0.7002\n",
            "Epoch 43/100\n",
            "786/786 [==============================] - 8s 10ms/step - loss: 106924.5547 - r2_score: 0.7396 - val_loss: 89470.2500 - val_r2_score: 0.7012\n",
            "Epoch 44/100\n",
            "786/786 [==============================] - 9s 11ms/step - loss: 105642.4844 - r2_score: 0.7465 - val_loss: 88631.5781 - val_r2_score: 0.7059\n",
            "Epoch 45/100\n",
            "786/786 [==============================] - 8s 11ms/step - loss: 105071.2344 - r2_score: 0.7498 - val_loss: 88387.7891 - val_r2_score: 0.7071\n",
            "Epoch 46/100\n",
            "786/786 [==============================] - 9s 12ms/step - loss: 105207.1016 - r2_score: 0.7415 - val_loss: 87904.0391 - val_r2_score: 0.7093\n",
            "Epoch 47/100\n",
            "786/786 [==============================] - 7s 9ms/step - loss: 105102.4219 - r2_score: 0.7520 - val_loss: 87626.6172 - val_r2_score: 0.7107\n",
            "Epoch 48/100\n",
            "786/786 [==============================] - 9s 11ms/step - loss: 103862.3516 - r2_score: 0.7599 - val_loss: 87497.3359 - val_r2_score: 0.7121\n",
            "Epoch 49/100\n",
            "786/786 [==============================] - 8s 10ms/step - loss: 104434.0469 - r2_score: 0.7514 - val_loss: 86915.8438 - val_r2_score: 0.7151\n",
            "Epoch 50/100\n",
            "786/786 [==============================] - 8s 10ms/step - loss: 103698.9688 - r2_score: 0.7562 - val_loss: 86249.9297 - val_r2_score: 0.7180\n",
            "Epoch 51/100\n",
            "786/786 [==============================] - 9s 11ms/step - loss: 102349.5781 - r2_score: 0.7646 - val_loss: 86036.0625 - val_r2_score: 0.7203\n",
            "Epoch 52/100\n",
            "786/786 [==============================] - 7s 9ms/step - loss: 102272.6328 - r2_score: 0.7703 - val_loss: 86263.3438 - val_r2_score: 0.7196\n",
            "Epoch 53/100\n",
            "786/786 [==============================] - 9s 12ms/step - loss: 101342.5703 - r2_score: 0.7717 - val_loss: 85397.1406 - val_r2_score: 0.7235\n",
            "Epoch 54/100\n",
            "786/786 [==============================] - 7s 9ms/step - loss: 101346.5938 - r2_score: 0.7709 - val_loss: 84958.5469 - val_r2_score: 0.7253\n",
            "Epoch 55/100\n",
            "786/786 [==============================] - 9s 11ms/step - loss: 101484.6094 - r2_score: 0.7696 - val_loss: 85021.9453 - val_r2_score: 0.7258\n",
            "Epoch 56/100\n",
            "786/786 [==============================] - 7s 10ms/step - loss: 100532.5312 - r2_score: 0.7760 - val_loss: 84564.6484 - val_r2_score: 0.7274\n",
            "Epoch 57/100\n",
            "786/786 [==============================] - 9s 11ms/step - loss: 100849.3828 - r2_score: 0.7730 - val_loss: 84523.0938 - val_r2_score: 0.7275\n",
            "Epoch 58/100\n",
            "786/786 [==============================] - 8s 10ms/step - loss: 101077.0391 - r2_score: 0.7736 - val_loss: 84017.1875 - val_r2_score: 0.7299\n",
            "Epoch 59/100\n",
            "786/786 [==============================] - 9s 11ms/step - loss: 99874.2656 - r2_score: 0.7783 - val_loss: 83384.3828 - val_r2_score: 0.7336\n",
            "Epoch 60/100\n",
            "786/786 [==============================] - 9s 12ms/step - loss: 100571.2656 - r2_score: 0.7748 - val_loss: 83189.1172 - val_r2_score: 0.7339\n",
            "Epoch 61/100\n",
            "786/786 [==============================] - 8s 10ms/step - loss: 99453.2656 - r2_score: 0.7822 - val_loss: 83137.6328 - val_r2_score: 0.7357\n",
            "Epoch 62/100\n",
            "786/786 [==============================] - 9s 11ms/step - loss: 99113.2266 - r2_score: 0.7870 - val_loss: 82839.1094 - val_r2_score: 0.7372\n",
            "Epoch 63/100\n",
            "786/786 [==============================] - 7s 9ms/step - loss: 99438.5469 - r2_score: 0.7859 - val_loss: 82441.8750 - val_r2_score: 0.7387\n",
            "Epoch 64/100\n",
            "786/786 [==============================] - 9s 11ms/step - loss: 98757.8906 - r2_score: 0.7908 - val_loss: 82417.9688 - val_r2_score: 0.7393\n",
            "Epoch 65/100\n",
            "786/786 [==============================] - 8s 11ms/step - loss: 99318.9062 - r2_score: 0.7832 - val_loss: 81940.1562 - val_r2_score: 0.7409\n",
            "Epoch 66/100\n",
            "786/786 [==============================] - 8s 10ms/step - loss: 97951.6016 - r2_score: 0.7872 - val_loss: 82142.3594 - val_r2_score: 0.7404\n",
            "Epoch 67/100\n",
            "786/786 [==============================] - 9s 11ms/step - loss: 98676.2656 - r2_score: 0.7902 - val_loss: 81611.5234 - val_r2_score: 0.7433\n",
            "Epoch 68/100\n",
            "786/786 [==============================] - 7s 9ms/step - loss: 97725.1016 - r2_score: 0.7926 - val_loss: 81357.5547 - val_r2_score: 0.7454\n",
            "Epoch 69/100\n",
            "786/786 [==============================] - 9s 11ms/step - loss: 98191.4219 - r2_score: 0.7911 - val_loss: 81102.8281 - val_r2_score: 0.7467\n",
            "Epoch 70/100\n",
            "786/786 [==============================] - 9s 12ms/step - loss: 97717.4453 - r2_score: 0.7922 - val_loss: 81243.7969 - val_r2_score: 0.7460\n",
            "Epoch 71/100\n",
            "786/786 [==============================] - 8s 11ms/step - loss: 97732.9609 - r2_score: 0.7999 - val_loss: 81273.4844 - val_r2_score: 0.7463\n",
            "Epoch 72/100\n",
            "786/786 [==============================] - 8s 10ms/step - loss: 96889.3359 - r2_score: 0.7967 - val_loss: 80646.7891 - val_r2_score: 0.7491\n",
            "Epoch 73/100\n",
            "786/786 [==============================] - 8s 10ms/step - loss: 96909.0703 - r2_score: 0.8074 - val_loss: 80429.3516 - val_r2_score: 0.7506\n",
            "Epoch 74/100\n",
            "786/786 [==============================] - 9s 11ms/step - loss: 96735.6875 - r2_score: 0.7934 - val_loss: 80518.2812 - val_r2_score: 0.7497\n",
            "Epoch 75/100\n",
            "786/786 [==============================] - 7s 9ms/step - loss: 97277.0625 - r2_score: 0.7971 - val_loss: 80211.1094 - val_r2_score: 0.7511\n",
            "Epoch 76/100\n",
            "786/786 [==============================] - 9s 11ms/step - loss: 97013.4609 - r2_score: 0.7984 - val_loss: 80079.4219 - val_r2_score: 0.7531\n",
            "Epoch 77/100\n",
            "786/786 [==============================] - 7s 9ms/step - loss: 96160.8359 - r2_score: 0.8009 - val_loss: 79843.5625 - val_r2_score: 0.7537\n",
            "Epoch 78/100\n",
            "786/786 [==============================] - 9s 11ms/step - loss: 96418.8828 - r2_score: 0.8019 - val_loss: 79875.6250 - val_r2_score: 0.7542\n",
            "Epoch 79/100\n",
            "786/786 [==============================] - 7s 9ms/step - loss: 96811.1953 - r2_score: 0.7992 - val_loss: 79294.5781 - val_r2_score: 0.7561\n",
            "Epoch 80/100\n",
            "786/786 [==============================] - 9s 11ms/step - loss: 96019.7344 - r2_score: 0.8052 - val_loss: 79182.9219 - val_r2_score: 0.7571\n",
            "Epoch 81/100\n",
            "786/786 [==============================] - 8s 11ms/step - loss: 95866.5156 - r2_score: 0.8023 - val_loss: 79016.5156 - val_r2_score: 0.7579\n",
            "Epoch 82/100\n",
            "786/786 [==============================] - 8s 10ms/step - loss: 94971.9219 - r2_score: 0.8094 - val_loss: 78971.3984 - val_r2_score: 0.7577\n",
            "Epoch 83/100\n",
            "786/786 [==============================] - 9s 11ms/step - loss: 95643.0469 - r2_score: 0.8063 - val_loss: 78776.6875 - val_r2_score: 0.7583\n",
            "Epoch 84/100\n",
            "786/786 [==============================] - 7s 9ms/step - loss: 95833.1406 - r2_score: 0.8060 - val_loss: 78683.8359 - val_r2_score: 0.7593\n",
            "Epoch 85/100\n",
            "786/786 [==============================] - 9s 11ms/step - loss: 95959.2812 - r2_score: 0.8092 - val_loss: 78830.5703 - val_r2_score: 0.7591\n",
            "Epoch 86/100\n",
            "786/786 [==============================] - 7s 9ms/step - loss: 95468.1172 - r2_score: 0.8073 - val_loss: 78562.0703 - val_r2_score: 0.7596\n",
            "Epoch 87/100\n",
            "786/786 [==============================] - 9s 11ms/step - loss: 95586.0000 - r2_score: 0.8048 - val_loss: 78487.4844 - val_r2_score: 0.7605\n",
            "Epoch 88/100\n",
            "786/786 [==============================] - 7s 9ms/step - loss: 94261.9922 - r2_score: 0.8115 - val_loss: 78314.2812 - val_r2_score: 0.7619\n",
            "Epoch 89/100\n",
            "786/786 [==============================] - 9s 11ms/step - loss: 94239.0000 - r2_score: 0.8064 - val_loss: 78019.4844 - val_r2_score: 0.7632\n",
            "Epoch 90/100\n",
            "786/786 [==============================] - 8s 10ms/step - loss: 94374.1406 - r2_score: 0.8131 - val_loss: 77914.5234 - val_r2_score: 0.7635\n",
            "Epoch 91/100\n",
            "786/786 [==============================] - 8s 10ms/step - loss: 94669.5703 - r2_score: 0.8178 - val_loss: 78014.9297 - val_r2_score: 0.7636\n",
            "Epoch 92/100\n",
            "786/786 [==============================] - 8s 11ms/step - loss: 93953.3594 - r2_score: 0.8212 - val_loss: 78308.1797 - val_r2_score: 0.7638\n",
            "Epoch 93/100\n",
            "786/786 [==============================] - 7s 9ms/step - loss: 93905.5312 - r2_score: 0.8161 - val_loss: 77799.1094 - val_r2_score: 0.7646\n",
            "Epoch 94/100\n",
            "786/786 [==============================] - 9s 11ms/step - loss: 93630.5469 - r2_score: 0.8163 - val_loss: 77630.8125 - val_r2_score: 0.7659\n",
            "Epoch 95/100\n",
            "786/786 [==============================] - 9s 12ms/step - loss: 93948.5312 - r2_score: 0.8163 - val_loss: 77701.5312 - val_r2_score: 0.7672\n",
            "Epoch 96/100\n",
            "786/786 [==============================] - 9s 11ms/step - loss: 93878.5234 - r2_score: 0.8197 - val_loss: 77458.2734 - val_r2_score: 0.7678\n",
            "Epoch 97/100\n",
            "786/786 [==============================] - 8s 10ms/step - loss: 93297.2031 - r2_score: 0.8252 - val_loss: 77189.5312 - val_r2_score: 0.7689\n",
            "Epoch 98/100\n",
            "786/786 [==============================] - 8s 10ms/step - loss: 94456.3750 - r2_score: 0.8252 - val_loss: 77275.5312 - val_r2_score: 0.7681\n",
            "Epoch 99/100\n",
            "786/786 [==============================] - 9s 11ms/step - loss: 93752.7891 - r2_score: 0.8160 - val_loss: 77023.7344 - val_r2_score: 0.7693\n",
            "Epoch 100/100\n",
            "786/786 [==============================] - 10s 13ms/step - loss: 94404.6641 - r2_score: 0.8143 - val_loss: 77233.0547 - val_r2_score: 0.7691\n"
          ]
        }
      ],
      "source": [
        "from tensorflow import keras\n",
        "model_ula = Sequential()\n",
        "model_ula.add(Dense(100, activation='relu', input_shape=(x_train.shape[1],)))\n",
        "model_ula.add(Dropout(0.3))\n",
        "model_ula.add(Dense(50, activation='relu'))\n",
        "model_ula.add(Dropout(0.3))\n",
        "model_ula.add(Dense(1, activation='linear'))\n",
        "# training\n",
        "model_ula.compile(optimizer='adam', loss='mae', metrics=[keras.metrics.R2Score()])\n",
        "history = model_ula.fit(x_train, y_train, validation_split=0.2, batch_size=50, epochs=100)\n"
      ]
    },
    {
      "cell_type": "code",
      "source": [
        "y_pred = model_ula.predict(x_test)"
      ],
      "metadata": {
        "colab": {
          "base_uri": "https://localhost:8080/"
        },
        "id": "fLZ--lwtqSNE",
        "outputId": "b70bf1d1-89dc-4cdf-92c1-775f0e8081b2"
      },
      "execution_count": 27,
      "outputs": [
        {
          "output_type": "stream",
          "name": "stdout",
          "text": [
            "658/658 [==============================] - 2s 3ms/step\n"
          ]
        }
      ]
    },
    {
      "cell_type": "code",
      "source": [
        "plt.plot(history.history['r2_score'], label='val_r2_score')\n",
        "plt.title('Обучение модели')\n",
        "plt.legend(['r2_score'])\n",
        "plt.show()"
      ],
      "metadata": {
        "colab": {
          "base_uri": "https://localhost:8080/",
          "height": 452
        },
        "id": "hP2cLxdU0UKN",
        "outputId": "901b8e5d-70c9-4a89-f6ea-bc652321cbfc"
      },
      "execution_count": 28,
      "outputs": [
        {
          "output_type": "display_data",
          "data": {
            "text/plain": [
              "<Figure size 640x480 with 1 Axes>"
            ],
            "image/png": "[encoded data removed]"
          },
          "metadata": {}
        }
      ]
    },
    {
      "cell_type": "code",
      "source": [
        "plt.plot(history.history['loss'],\n",
        "         label='Ошибка на обучающем наборе')\n",
        "plt.plot(history.history['val_loss'],\n",
        "         label='Ошибка на проверочном наборе')\n",
        "plt.xlabel('Эпоха обучения')\n",
        "plt.ylabel('Ошибка')\n",
        "plt.legend()\n",
        "plt.show()"
      ],
      "metadata": {
        "colab": {
          "base_uri": "https://localhost:8080/",
          "height": 449
        },
        "id": "jOaYnadQqUZ1",
        "outputId": "2cf46d9b-4837-4119-d606-fbeb813cccf1"
      },
      "execution_count": 29,
      "outputs": [
        {
          "output_type": "display_data",
          "data": {
            "text/plain": [
              "<Figure size 640x480 with 1 Axes>"
            ],
            "image/png": "[encoded data removed]"
          },
          "metadata": {}
        }
      ]
    }
  ]
}